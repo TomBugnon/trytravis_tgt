{
 "cells": [
  {
   "cell_type": "markdown",
   "metadata": {},
   "source": [
    "# deNEST: Quickstart tutorial\n",
    "\n",
    "In this tutorial we do the following :\n",
    "\n",
    "1. __Examine the `'network'` parameter tree__\n",
    "    1. Models (``neuron_models``, ``recorder_models``, ``synapse_models``)\n",
    "    2. Layers (``layers``)\n",
    "    3. Projections (``projection_models`` and ``topology`` subtrees\n",
    "    5. Population and projection recorders (``recorders``)\n",
    "\n",
    "\n",
    "2. __Examine the full simulation parameter tree__\n",
    "    1. ``network`` params subtree\n",
    "    2. ``kernel`` params subtree\n",
    "    3. ``session_models`` params subtree\n",
    "    4. ``simulation`` params subtree\n",
    "\n",
    "\n",
    "3. __Run a full simulation__\n",
    "    1. Split the full parameter tree from multiple files\n",
    "    1. Using the ``Simulation`` object\n",
    "    2. Using the ``denest.run()`` method\n",
    "    3. From the command line\n"
   ]
  },
  {
   "cell_type": "code",
   "execution_count": 79,
   "metadata": {},
   "outputs": [
    {
     "name": "stdout",
     "output_type": "stream",
     "text": [
      "The autoreload extension is already loaded. To reload it, use:\n",
      "  %reload_ext autoreload\n"
     ]
    }
   ],
   "source": [
    "%load_ext autoreload\n",
    "%autoreload 2\n",
    "\n",
    "import nest\n",
    "import yaml\n",
    "from pathlib import Path\n",
    "from pprint import pprint"
   ]
  },
  {
   "cell_type": "code",
   "execution_count": 80,
   "metadata": {},
   "outputs": [],
   "source": [
    "from denest import *\n",
    "import denest"
   ]
  },
  {
   "cell_type": "code",
   "execution_count": 81,
   "metadata": {},
   "outputs": [],
   "source": [
    "PARAMS_DIR = Path('./data_tuto/params')\n",
    "OUTPUT_DIR = Path('./data_tuto/output')"
   ]
  },
  {
   "cell_type": "markdown",
   "metadata": {},
   "source": [
    "# 1- The ``\"network\"`` tree defines a full NEST network\n",
    "\n",
    "\n",
    "A NEST network is represented in deNEST by the ``Network`` object."
   ]
  },
  {
   "cell_type": "markdown",
   "metadata": {},
   "source": [
    "The `Network` object is initialized from the full ``\"network\"`` parameter tree.\n",
    "The `'network'` tree should have specific children subtree, each used to initialize different elements of the network."
   ]
  },
  {
   "cell_type": "code",
   "execution_count": 149,
   "metadata": {},
   "outputs": [],
   "source": [
    "net_tree = ParamsTree.read(PARAMS_DIR/'network_tree.yml').children['network']"
   ]
  },
  {
   "cell_type": "code",
   "execution_count": 150,
   "metadata": {},
   "outputs": [
    {
     "data": {
      "text/plain": [
       "ParamsTree(name='network', parent='None')\n",
       "  params: {}\n",
       "  nest_params: {}\n",
       "  neuron_models:\n",
       "    params: {}\n",
       "    nest_params: {}\n",
       "    my_neuron:\n",
       "      params:\n",
       "        nest_model: ht_neuron\n",
       "      nest_params:\n",
       "        g_KL: 1.0\n",
       "        g_NaL: 1.0\n",
       "      l1_exc:\n",
       "        params: {}\n",
       "        nest_params:\n",
       "          V_m: -44.0\n",
       "  \n",
       "  ... [116 lines] ...\n",
       "\n",
       "      - layers:\n",
       "        - input_layer\n",
       "        populations: null\n",
       "        model: my_spike_detector\n",
       "      projection_recorders:\n",
       "      - source_layers:\n",
       "        - l1\n",
       "        source_population: l1_exc\n",
       "        target_layers:\n",
       "        - l1\n",
       "        target_population: l1_inh\n",
       "        projection_model: proj_1_AMPA\n",
       "        model: weight_recorder\n",
       "    nest_params: {}\n",
       "  "
      ]
     },
     "execution_count": 150,
     "metadata": {},
     "output_type": "execute_result"
    }
   ],
   "source": [
    "# Full 'network' tree\n",
    "net_tree"
   ]
  },
  {
   "cell_type": "code",
   "execution_count": 106,
   "metadata": {},
   "outputs": [
    {
     "name": "stdout",
     "output_type": "stream",
     "text": [
      "'network' tree's expected subtrees: dict_keys(['neuron_models', 'synapse_models', 'layers', 'projection_models', 'topology', 'recorder_models', 'recorders'])\n"
     ]
    }
   ],
   "source": [
    "print(\"'network' tree's expected subtrees:\", net_tree.children.keys())"
   ]
  },
  {
   "cell_type": "markdown",
   "metadata": {},
   "source": [
    "## 1- Models ( __`'neuron_model'`, `'synapse_models'`, `'recorder_models'`__ subtrees)\n",
    "\n",
    "We can define neuron, recorder, stimulator and synapse models with arbitrary parameters from parameter trees.\n",
    "\n",
    "Each leaf corresponds to a new (named) model. Its ``nest_params`` and ``params`` are hierarchically inherited.\n",
    "\n",
    "The ``nest_model`` used is specified in the leaf's ``params``"
   ]
  },
  {
   "cell_type": "markdown",
   "metadata": {},
   "source": [
    "### ``'neuron_models'`` tree:"
   ]
  },
  {
   "cell_type": "code",
   "execution_count": 85,
   "metadata": {},
   "outputs": [
    {
     "data": {
      "text/plain": [
       "ParamsTree(name='neuron_models', parent='None')\n",
       "  params: {}\n",
       "  nest_params: {}\n",
       "  my_neuron:\n",
       "    params:\n",
       "      nest_model: ht_neuron\n",
       "    nest_params:\n",
       "      g_KL: 1.0\n",
       "      g_NaL: 1.0\n",
       "    l1_exc:\n",
       "      params: {}\n",
       "      nest_params:\n",
       "        V_m: -44.0\n",
       "    l1_inh:\n",
       "      params: {}\n",
       "      nest_params:\n",
       "        V_m: -55.0\n",
       "  "
      ]
     },
     "execution_count": 85,
     "metadata": {},
     "output_type": "execute_result"
    }
   ],
   "source": [
    "net_tree.children['neuron_models']"
   ]
  },
  {
   "cell_type": "markdown",
   "metadata": {},
   "source": [
    "__Below are the leaves of the tree. Each initializes a model. The `nest_params` and `params` are inherited from ancestor leaves__"
   ]
  },
  {
   "cell_type": "code",
   "execution_count": 86,
   "metadata": {},
   "outputs": [
    {
     "name": "stdout",
     "output_type": "stream",
     "text": [
      "Tree's leaves and their inherited parameters:\n"
     ]
    },
    {
     "data": {
      "text/plain": [
       "[('leaf name: l1_exc)',\n",
       "  \"leaf `params`: {'nest_model': 'ht_neuron'}\",\n",
       "  \"leaf `nest_params`: {'g_KL': 1.0, 'g_NaL': 1.0, 'V_m': -44.0}\"),\n",
       " ('leaf name: l1_inh)',\n",
       "  \"leaf `params`: {'nest_model': 'ht_neuron'}\",\n",
       "  \"leaf `nest_params`: {'g_KL': 1.0, 'g_NaL': 1.0, 'V_m': -55.0}\")]"
      ]
     },
     "execution_count": 86,
     "metadata": {},
     "output_type": "execute_result"
    }
   ],
   "source": [
    "print(\"Tree's leaves and their inherited parameters:\")\n",
    "[\n",
    "    (f'leaf name: {l.name})',\n",
    "      f'leaf `params`: {dict(l.params)}',\n",
    "      f'leaf `nest_params`: {dict(l.nest_params)}')\n",
    "     for l in net_tree.children['neuron_models'].leaves()\n",
    "]"
   ]
  },
  {
   "cell_type": "markdown",
   "metadata": {},
   "source": [
    "### ``'recorder_models'`` subtree:\n",
    "\n",
    "-> Same thing as for neuron models"
   ]
  },
  {
   "cell_type": "code",
   "execution_count": 87,
   "metadata": {},
   "outputs": [
    {
     "data": {
      "text/plain": [
       "ParamsTree(name='recorder_models', parent='None')\n",
       "  params: {}\n",
       "  nest_params:\n",
       "    record_to:\n",
       "    - memory\n",
       "    - file\n",
       "  weight_recorder:\n",
       "    params:\n",
       "      nest_model: weight_recorder\n",
       "    nest_params: {}\n",
       "  my_multimeter:\n",
       "    params:\n",
       "      nest_model: multimeter\n",
       "    nest_params:\n",
       "      record_from:\n",
       "      - V_m\n",
       "  my_spike_detector:\n",
       "    params:\n",
       "      nest_model: spike_detector\n",
       "    nest_params: {}\n",
       "  "
      ]
     },
     "execution_count": 87,
     "metadata": {},
     "output_type": "execute_result"
    }
   ],
   "source": [
    "net_tree.children['recorder_models']"
   ]
  },
  {
   "cell_type": "code",
   "execution_count": 88,
   "metadata": {},
   "outputs": [
    {
     "name": "stdout",
     "output_type": "stream",
     "text": [
      "Tree's leaves and their inherited parameters:\n"
     ]
    },
    {
     "data": {
      "text/plain": [
       "[('leaf name: weight_recorder)',\n",
       "  \"leaf `params`: {'nest_model': 'weight_recorder'}\",\n",
       "  \"leaf `nest_params`: {'record_to': ['memory', 'file']}\"),\n",
       " ('leaf name: my_multimeter)',\n",
       "  \"leaf `params`: {'nest_model': 'multimeter'}\",\n",
       "  \"leaf `nest_params`: {'record_to': ['memory', 'file'], 'record_from': ['V_m']}\"),\n",
       " ('leaf name: my_spike_detector)',\n",
       "  \"leaf `params`: {'nest_model': 'spike_detector'}\",\n",
       "  \"leaf `nest_params`: {'record_to': ['memory', 'file']}\")]"
      ]
     },
     "execution_count": 88,
     "metadata": {},
     "output_type": "execute_result"
    }
   ],
   "source": [
    "print(\"Tree's leaves and their inherited parameters:\")\n",
    "[\n",
    "    (f'leaf name: {l.name})',\n",
    "      f'leaf `params`: {dict(l.params)}',\n",
    "      f'leaf `nest_params`: {dict(l.nest_params)}')\n",
    "     for l in net_tree.children['recorder_models'].leaves()\n",
    "]"
   ]
  },
  {
   "cell_type": "markdown",
   "metadata": {},
   "source": [
    "### ``'synapse_model'`` subtree:\n",
    "\n",
    "-> Same thing as for neuron models, with as a bonus a convenient way of specifying the receptor type of the synapse\n",
    "\n",
    "-> If specifying the ``receptor_type`` and ``target_model`` in the ``SynapseModel`` params, the corresponding port is determined automatically\n",
    "\n",
    "-> Connection __'weight'__ nest_param should be specified in the projections parameters rather than the synapse parameters"
   ]
  },
  {
   "cell_type": "code",
   "execution_count": 89,
   "metadata": {},
   "outputs": [
    {
     "name": "stdout",
     "output_type": "stream",
     "text": [
      "ParamsTree(name='synapse_models', parent='None')\n",
      "  params: {}\n",
      "  nest_params: {}\n",
      "  my_AMPA_synapse:\n",
      "    params:\n",
      "      nest_model: ht_synapse\n",
      "      receptor_type: AMPA\n",
      "      target_neuron: ht_neuron\n",
      "    nest_params: {}\n",
      "  my_GABAA_synapse:\n",
      "    params:\n",
      "      nest_model: ht_synapse\n",
      "      receptor_type: GABA_A\n",
      "      target_neuron: ht_neuron\n",
      "    nest_params: {}\n",
      "  \n"
     ]
    }
   ],
   "source": [
    "pprint(net_tree.children['synapse_models'])"
   ]
  },
  {
   "cell_type": "code",
   "execution_count": 90,
   "metadata": {},
   "outputs": [
    {
     "name": "stdout",
     "output_type": "stream",
     "text": [
      "Tree's leaves and their inherited parameters:\n"
     ]
    },
    {
     "data": {
      "text/plain": [
       "[('leaf name: my_AMPA_synapse)',\n",
       "  \"leaf `params`: {'nest_model': 'ht_synapse', 'receptor_type': 'AMPA', 'target_neuron': 'ht_neuron'}\",\n",
       "  'leaf `nest_params`: {}'),\n",
       " ('leaf name: my_GABAA_synapse)',\n",
       "  \"leaf `params`: {'nest_model': 'ht_synapse', 'receptor_type': 'GABA_A', 'target_neuron': 'ht_neuron'}\",\n",
       "  'leaf `nest_params`: {}')]"
      ]
     },
     "execution_count": 90,
     "metadata": {},
     "output_type": "execute_result"
    }
   ],
   "source": [
    "print(\"Tree's leaves and their inherited parameters:\")\n",
    "[\n",
    "    (f'leaf name: {l.name})',\n",
    "      f'leaf `params`: {dict(l.params)}',\n",
    "      f'leaf `nest_params`: {dict(l.nest_params)}')\n",
    "     for l in net_tree.children['synapse_models'].leaves()\n",
    "]"
   ]
  },
  {
   "cell_type": "markdown",
   "metadata": {},
   "source": [
    "## 2- Layers ( __`'layers'`__ subtree)\n",
    "\n",
    "As for models, we can create ``nest.Topology`` layers from the leaves of a tree.\n",
    "\n",
    "The elements can be nest models with their default parameters, or the ones we just created with custom params\n",
    "\n",
    "For layers of stimulator devices, we can use the ``InputLayer`` object, which can automatically create paired parrot neurons for each stimulator units, by adding ``type: 'InputLayer'`` to the params\n",
    "\n",
    "The leaves should have a ``population`` entry in the ``params`` field, that specifies the number of units of each model at each layer location (replaces the ``elements`` nest_params)"
   ]
  },
  {
   "cell_type": "code",
   "execution_count": 91,
   "metadata": {},
   "outputs": [
    {
     "data": {
      "text/plain": [
       "ParamsTree(name='layers', parent='None')\n",
       "  params: {}\n",
       "  nest_params: {}\n",
       "  layers:\n",
       "    params:\n",
       "      type: null\n",
       "    nest_params:\n",
       "      rows: 5\n",
       "      columns: 5\n",
       "      extent:\n",
       "      - 5.0\n",
       "      - 5.0\n",
       "      edge_wrap: true\n",
       "    input_layer:\n",
       "      params:\n",
       "        type: InputLayer\n",
       "        add_parrots: true\n",
       "        populations:\n",
       "          spike_generator: 1\n",
       "      nest_params: {}\n",
       "    l1:\n",
       "      params:\n",
       "        populations:\n",
       "          l1_exc: 4\n",
       "          l1_inh: 2\n",
       "      nest_params: {}\n",
       "  "
      ]
     },
     "execution_count": 91,
     "metadata": {},
     "output_type": "execute_result"
    }
   ],
   "source": [
    "layer_tree = net_tree.children['layers']\n",
    "layer_tree"
   ]
  },
  {
   "cell_type": "code",
   "execution_count": 92,
   "metadata": {},
   "outputs": [
    {
     "name": "stdout",
     "output_type": "stream",
     "text": [
      "Tree's leaves and their inherited parameters:\n"
     ]
    },
    {
     "data": {
      "text/plain": [
       "[('leaf name: input_layer)',\n",
       "  \"leaf `params`: {'type': 'InputLayer', 'add_parrots': True, 'populations': {'spike_generator': 1}}\",\n",
       "  \"leaf `nest_params`: {'rows': 5, 'columns': 5, 'extent': [5.0, 5.0], 'edge_wrap': True}\"),\n",
       " ('leaf name: l1)',\n",
       "  \"leaf `params`: {'type': None, 'populations': {'l1_exc': 4, 'l1_inh': 2}}\",\n",
       "  \"leaf `nest_params`: {'rows': 5, 'columns': 5, 'extent': [5.0, 5.0], 'edge_wrap': True}\")]"
      ]
     },
     "execution_count": 92,
     "metadata": {},
     "output_type": "execute_result"
    }
   ],
   "source": [
    "print(\"Tree's leaves and their inherited parameters:\")\n",
    "[\n",
    "    (f'leaf name: {l.name})',\n",
    "      f'leaf `params`: {dict(l.params)}',\n",
    "      f'leaf `nest_params`: {dict(l.nest_params)}')\n",
    "     for l in layer_tree.leaves()\n",
    "]"
   ]
  },
  {
   "cell_type": "markdown",
   "metadata": {},
   "source": [
    "## Projections (__`'projection_models'` and `'topology'` subtrees)\n",
    "\n",
    "We create projections using a two step process:\n",
    "\n",
    "1. Create ``ProjectionModel`` objects from a tree. Each named leaf will define a template from which individual projections can inherit their parameters (__``'projection_models``__ subtree)\n",
    "\n",
    "\n",
    "2. Create ``Projection`` objects from a list, specifying for each item the source layer x population, target layer x population and the projection model to inherit parameters from (__``'topology'``__ subtree)"
   ]
  },
  {
   "cell_type": "markdown",
   "metadata": {},
   "source": [
    "### 1- Define templates from the `projection_models` tree\n",
    "\n"
   ]
  },
  {
   "cell_type": "code",
   "execution_count": 93,
   "metadata": {},
   "outputs": [
    {
     "data": {
      "text/plain": [
       "ParamsTree(name='projection_models', parent='None')\n",
       "  params: {}\n",
       "  nest_params:\n",
       "    connection_type: divergent\n",
       "    mask:\n",
       "      circular:\n",
       "        radius: 2.0\n",
       "    kernel: 1.0\n",
       "  proj_1_AMPA:\n",
       "    params: {}\n",
       "    nest_params:\n",
       "      synapse_model: my_AMPA_synapse\n",
       "      weights: 1.0\n",
       "  proj_2_GABAA:\n",
       "    params: {}\n",
       "    nest_params:\n",
       "      synapse_model: my_GABAA_synapse\n",
       "      weights: 2.0\n",
       "  "
      ]
     },
     "execution_count": 93,
     "metadata": {},
     "output_type": "execute_result"
    }
   ],
   "source": [
    "proj_model_tree = net_tree.children['projection_models']\n",
    "proj_model_tree"
   ]
  },
  {
   "cell_type": "code",
   "execution_count": 94,
   "metadata": {},
   "outputs": [
    {
     "name": "stdout",
     "output_type": "stream",
     "text": [
      "Tree's leaves and their inherited parameters:\n"
     ]
    },
    {
     "data": {
      "text/plain": [
       "[('leaf name: proj_1_AMPA)',\n",
       "  'leaf `params`: {}',\n",
       "  \"leaf `nest_params`: {'connection_type': 'divergent', 'mask': {'circular': {'radius': 2.0}}, 'kernel': 1.0, 'synapse_model': 'my_AMPA_synapse', 'weights': 1.0}\"),\n",
       " ('leaf name: proj_2_GABAA)',\n",
       "  'leaf `params`: {}',\n",
       "  \"leaf `nest_params`: {'connection_type': 'divergent', 'mask': {'circular': {'radius': 2.0}}, 'kernel': 1.0, 'synapse_model': 'my_GABAA_synapse', 'weights': 2.0}\")]"
      ]
     },
     "execution_count": 94,
     "metadata": {},
     "output_type": "execute_result"
    }
   ],
   "source": [
    "print(\"Tree's leaves and their inherited parameters:\")\n",
    "[\n",
    "    (f'leaf name: {l.name})',\n",
    "      f'leaf `params`: {dict(l.params)}',\n",
    "      f'leaf `nest_params`: {dict(l.nest_params)}')\n",
    "     for l in net_tree.children['projection_models'].leaves()\n",
    "]"
   ]
  },
  {
   "cell_type": "markdown",
   "metadata": {},
   "source": [
    "### 2- Define individual projections from the `topology` tree\n",
    "\n",
    "The list of projections is defined in the `projections` params of the `topology` tree\n",
    "\n",
    "Check out the doc of `Network.build_projections` for expected formatting"
   ]
  },
  {
   "cell_type": "markdown",
   "metadata": {},
   "source": [
    "For each item in the list, a projection is created for each of the `<source_layer> x <target_layer>` combinations.\n",
    "The `params` and `nest_params` are inherited from the template `projection_model`"
   ]
  },
  {
   "cell_type": "code",
   "execution_count": 95,
   "metadata": {},
   "outputs": [
    {
     "data": {
      "text/plain": [
       "ParamsTree(name='topology', parent='None')\n",
       "  params:\n",
       "    projections:\n",
       "    - source_layers:\n",
       "      - input_layer\n",
       "      source_population: parrot_neuron\n",
       "      target_layers:\n",
       "      - l1\n",
       "      target_population: l1_exc\n",
       "      projection_model: proj_1_AMPA\n",
       "    - source_layers:\n",
       "      - l1\n",
       "      source_population: l1_exc\n",
       "      target_layers:\n",
       "      - l1\n",
       "      target_population: l1_inh\n",
       "      projection_model: proj_1_AMPA\n",
       "    - source_layers:\n",
       "      - l1\n",
       "      source_population: l1_inh\n",
       "      target_layers:\n",
       "      - l1\n",
       "      target_population: l1_exc\n",
       "      projection_model: proj_2_GABAA\n",
       "  nest_params: {}\n",
       "  "
      ]
     },
     "execution_count": 95,
     "metadata": {},
     "output_type": "execute_result"
    }
   ],
   "source": [
    "conns_tree = ParamsTree.read(PARAMS_DIR/'projections.yml').children['topology']\n",
    "conns_tree"
   ]
  },
  {
   "cell_type": "markdown",
   "metadata": {},
   "source": [
    "## Recorders (__`recorders`__ subtree)\n",
    "\n",
    "Similarly to the `topology` tree, recorders are defined from lists.\n",
    "\n",
    "We separate recorders connected to synapses (eg weight recorder) and those connected to units (eg spike detectors),\n",
    "which are defined in the `projection_recorders` and `population_recorders` params (resp.) of the `recorders` tree.\n",
    "\n",
    "Check out the doc of the ``Network.build_recorders``, ``Network.build_population_recorders`` and\n",
    "``Network.build_projection_recorders`` methods for expected formatting\n",
    "\n",
    "The parameters of the recorders can be changed by using custom recorder models (in the `recorder_models` tree, see above) "
   ]
  },
  {
   "cell_type": "code",
   "execution_count": 96,
   "metadata": {},
   "outputs": [
    {
     "data": {
      "text/plain": [
       "ParamsTree(name='recorders', parent='None')\n",
       "  params:\n",
       "    population_recorders:\n",
       "    - layers:\n",
       "      - l1\n",
       "      populations:\n",
       "      - l1_exc\n",
       "      model: my_multimeter\n",
       "    - layers:\n",
       "      - input_layer\n",
       "      populations: null\n",
       "      model: my_spike_detector\n",
       "    projection_recorders:\n",
       "    - source_layers:\n",
       "      - l1\n",
       "      source_population: l1_exc\n",
       "      target_layers:\n",
       "      - l1\n",
       "      target_population: l1_inh\n",
       "      projection_model: proj_1_AMPA\n",
       "      model: weight_recorder\n",
       "  nest_params: {}\n",
       "  "
      ]
     },
     "execution_count": 96,
     "metadata": {},
     "output_type": "execute_result"
    }
   ],
   "source": [
    "recorders_tree = net_tree.children['recorders']\n",
    "recorders_tree"
   ]
  },
  {
   "cell_type": "markdown",
   "metadata": {},
   "source": [
    "# 2- Full parameter tree defining the whole simulation\n",
    "\n",
    "\n",
    "A full simulation consists in\n",
    "\n",
    "- kernel initialization\n",
    "- network creation\n",
    "- running the network in multiple 'sessions' at the start of which some modifications to the network can be made\n",
    "\n",
    "The full simulation is represented by the `Simulation` object, which is initialized from a parameter tree with the following subtrees:\n",
    "\n",
    "1. __`'network'`__ subtree, passed to `Network()`\n",
    "\n",
    "1. __`'kernel'`__ subtree, passed to `Simulation.init_kernel()`\n",
    "\n",
    "1. __`'session_models'`__ subtree, defining the parameters for each individual `Session`\n",
    "\n",
    "1. __`'simulation'`__ subtree, containing the list of sessions that we run and the input/output directory paths"
   ]
  },
  {
   "cell_type": "code",
   "execution_count": 99,
   "metadata": {},
   "outputs": [],
   "source": [
    "full_tree = ParamsTree.read(PARAMS_DIR/'parameter_tree.yml')"
   ]
  },
  {
   "cell_type": "code",
   "execution_count": 101,
   "metadata": {},
   "outputs": [
    {
     "data": {
      "text/plain": [
       "dict_keys(['kernel', 'simulation', 'session_models', 'network'])"
      ]
     },
     "execution_count": 101,
     "metadata": {},
     "output_type": "execute_result"
    }
   ],
   "source": [
    "full_tree.children.keys()"
   ]
  },
  {
   "cell_type": "markdown",
   "metadata": {},
   "source": [
    "## 1- `'network'` subtree"
   ]
  },
  {
   "cell_type": "markdown",
   "metadata": {},
   "source": [
    "The 'network' subtree is expected to have the following children, as we saw above"
   ]
  },
  {
   "cell_type": "code",
   "execution_count": 103,
   "metadata": {},
   "outputs": [
    {
     "data": {
      "text/plain": [
       "dict_keys(['neuron_models', 'synapse_models', 'layers', 'projection_models', 'topology', 'recorder_models', 'recorders'])"
      ]
     },
     "execution_count": 103,
     "metadata": {},
     "output_type": "execute_result"
    }
   ],
   "source": [
    "net_tree = full_tree.children['network']\n",
    "net_tree.children.keys()"
   ]
  },
  {
   "cell_type": "markdown",
   "metadata": {},
   "source": [
    "It is used to initialize a `Network` object, representing the full NEST network"
   ]
  },
  {
   "cell_type": "code",
   "execution_count": 107,
   "metadata": {},
   "outputs": [
    {
     "name": "stderr",
     "output_type": "stream",
     "text": [
      "2020-06-26 13:48:04,876 [denest.network] INFO: Build N=2 ``Model`` objects\n",
      "2020-06-26 13:48:04,877 [denest.network] INFO: Build N=2 ``SynapseModel`` objects\n",
      "2020-06-26 13:48:04,879 [denest.network] INFO: Build N=3 ``Model`` objects\n",
      "2020-06-26 13:48:04,881 [denest.network] INFO: Build N=2 ``Layer`` or ``InputLayer`` objects.\n",
      "2020-06-26 13:48:04,883 [denest.utils.validation] INFO: Object `proj_1_AMPA`: params: using default value for optional parameters:\n",
      "{'type': 'topological'}\n",
      "2020-06-26 13:48:04,886 [denest.utils.validation] INFO: Object `proj_2_GABAA`: params: using default value for optional parameters:\n",
      "{'type': 'topological'}\n",
      "2020-06-26 13:48:04,887 [denest.network] INFO: Build N=2 ``ProjectionModel`` objects\n",
      "2020-06-26 13:48:04,892 [denest.network] INFO: Build N=3 ``TopoProjection`` objects\n",
      "2020-06-26 13:48:04,908 [denest.network] INFO: Build N=2 population recorders.\n",
      "2020-06-26 13:48:04,909 [denest.network] INFO: Build N=1 projection recorders.\n"
     ]
    }
   ],
   "source": [
    "net = Network(net_tree)"
   ]
  },
  {
   "cell_type": "markdown",
   "metadata": {},
   "source": [
    "## 2- `'kernel'` subtree\n",
    "\n",
    "The kernel subtree is passed to the `Simulation.init_kernel` method\n",
    "\n",
    "- All `nest_params` are passed to nest.SetKernelStatus\n",
    "\n",
    "- Two optional `params`:\n",
    "    - `nest_seed` (used to initialize at once the thread-wide and general nest rsg. The `msd`, `grng_seed` and `rng_seed` nest params are reserved)\n",
    "    - `extension_modules` (used to call `nest.Install()`)\n",
    "\n",
    "- Note the `data_path` parameter is set automatically from the simulation's `'output_dir'`"
   ]
  },
  {
   "cell_type": "code",
   "execution_count": 111,
   "metadata": {},
   "outputs": [
    {
     "data": {
      "text/plain": [
       "ParamsTree(name='kernel', parent='None')\n",
       "  params:\n",
       "    nest_seed: 10\n",
       "    extension_modules: []\n",
       "  nest_params:\n",
       "    resolution: 0.5\n",
       "    overwrite_files: true\n",
       "  "
      ]
     },
     "execution_count": 111,
     "metadata": {},
     "output_type": "execute_result"
    }
   ],
   "source": [
    "full_tree.children['kernel']"
   ]
  },
  {
   "cell_type": "markdown",
   "metadata": {},
   "source": [
    "## 3- `'session_models'` subtree\n",
    "\n",
    "The leaves of the `'session_models'` subtree define templates from which the parameters of each `Session` object can be inherited.\n",
    "\n",
    "The following `params` are recognized:\n",
    "\n",
    "- ``simulation_time`` (float): Duration of the session in ms.\n",
    "    (mandatory)\n",
    "\n",
    "- ``reset_network`` (bool): If true, ``nest.ResetNetwork()`` is\n",
    "    called during session initialization (default ``False``)\n",
    "\n",
    "- ``record`` (bool): If false, the ``start_time`` field of\n",
    "    recorder nodes in NEST is set to the end time of the\n",
    "    session, so that no data is recorded during the session\n",
    "    (default ``True``)\n",
    "\n",
    "- ``shift_origin`` (bool): If True, the ``origin`` flag of the\n",
    "    stimulation devices of all the network's ``InputLayer``\n",
    "    layers is set to the start of the session during\n",
    "    initialization. Useful to repeat sessions when the\n",
    "    stimulators are eg spike generators.\n",
    "\n",
    "- ``unit_changes`` (list): List describing the changes applied\n",
    "    to certain units before the start of the session.\n",
    "    Passed to ``Network.set_state``.\n",
    "\n",
    "- ``synapse_changes`` (list): List describing the changes\n",
    "    applied to certain synapses before the start of the session.\n",
    "    Passed to ``Network.set_state``. Refer to that\n",
    "    method for a description of how ``synapse_changes`` is\n",
    "    formatted and interpreted. No changes happen if empty.\n",
    "    (default [])\n",
    "\n"
   ]
  },
  {
   "cell_type": "code",
   "execution_count": 114,
   "metadata": {},
   "outputs": [
    {
     "data": {
      "text/plain": [
       "ParamsTree(name='session_models', parent='None')\n",
       "  params:\n",
       "    record: true\n",
       "    shift_origin: true\n",
       "    simulation_time: 100.0\n",
       "  nest_params: {}\n",
       "  warmup:\n",
       "    params:\n",
       "      record: false\n",
       "    nest_params: {}\n",
       "  2_spikes:\n",
       "    params:\n",
       "      unit_changes:\n",
       "      - layers:\n",
       "        - input_layer\n",
       "        population_name: spike_generator\n",
       "  \n",
       "  ... [3 lines] ...\n",
       "\n",
       "          - 10.0\n",
       "    nest_params: {}\n",
       "  3_spikes:\n",
       "    params:\n",
       "      unit_changes:\n",
       "      - layers:\n",
       "        - input_layer\n",
       "        population_name: spike_generator\n",
       "        nest_params:\n",
       "          spike_times:\n",
       "          - 1.0\n",
       "          - 10.0\n",
       "          - 20.0\n",
       "    nest_params: {}\n",
       "  "
      ]
     },
     "execution_count": 114,
     "metadata": {},
     "output_type": "execute_result"
    }
   ],
   "source": [
    "full_tree.children['session_models']"
   ]
  },
  {
   "cell_type": "code",
   "execution_count": 115,
   "metadata": {},
   "outputs": [
    {
     "name": "stdout",
     "output_type": "stream",
     "text": [
      "Tree's leaves and their inherited parameters:\n"
     ]
    },
    {
     "data": {
      "text/plain": [
       "[('leaf name: warmup)',\n",
       "  \"leaf `params`: {'record': False, 'shift_origin': True, 'simulation_time': 100.0}\",\n",
       "  'leaf `nest_params`: {}'),\n",
       " ('leaf name: 2_spikes)',\n",
       "  \"leaf `params`: {'record': True, 'shift_origin': True, 'simulation_time': 100.0, 'unit_changes': [{'layers': ['input_layer'], 'population_name': 'spike_generator', 'nest_params': {'spike_times': [1.0, 10.0]}}]}\",\n",
       "  'leaf `nest_params`: {}'),\n",
       " ('leaf name: 3_spikes)',\n",
       "  \"leaf `params`: {'record': True, 'shift_origin': True, 'simulation_time': 100.0, 'unit_changes': [{'layers': ['input_layer'], 'population_name': 'spike_generator', 'nest_params': {'spike_times': [1.0, 10.0, 20.0]}}]}\",\n",
       "  'leaf `nest_params`: {}')]"
      ]
     },
     "execution_count": 115,
     "metadata": {},
     "output_type": "execute_result"
    }
   ],
   "source": [
    "print(\"Tree's leaves and their inherited parameters:\")\n",
    "[\n",
    "    (f'leaf name: {l.name})',\n",
    "      f'leaf `params`: {dict(l.params)}',\n",
    "      f'leaf `nest_params`: {dict(l.nest_params)}')\n",
    "     for l in full_tree.children['session_models'].leaves()\n",
    "]"
   ]
  },
  {
   "cell_type": "markdown",
   "metadata": {},
   "source": [
    "Check out the ``set_network_state`` tutorial or the documentation of the ``Network.set_state()`` method for details on how to modify the state of the network at the start of a simulation"
   ]
  },
  {
   "cell_type": "markdown",
   "metadata": {},
   "source": [
    "## 4- `'simulation'` subtree\n",
    "\n",
    "The 'simulation' subtree contains the following parameters:\n",
    "\n",
    "- ``output_dir`` (str): Path to the output directory\n",
    "    (default 'output').\n",
    "- ``input_dir`` (str): Path to the directory in which\n",
    "    input files are searched for for each session.\n",
    "    (default 'input')\n",
    "- ``sessions`` (list(str)): Order in which sessions are\n",
    "    run. Elements of the list should be the name of\n",
    "    session models defined in the ``session_models``\n",
    "    parameter subtree (default [])\n"
   ]
  },
  {
   "cell_type": "code",
   "execution_count": 116,
   "metadata": {},
   "outputs": [
    {
     "data": {
      "text/plain": [
       "ParamsTree(name='simulation', parent='None')\n",
       "  params:\n",
       "    output_dir: data_tuto/output\n",
       "    sessions:\n",
       "    - warmup\n",
       "    - 3_spikes\n",
       "    - 2_spikes\n",
       "    - 3_spikes\n",
       "  nest_params: {}\n",
       "  "
      ]
     },
     "execution_count": 116,
     "metadata": {},
     "output_type": "execute_result"
    }
   ],
   "source": [
    "full_tree.children['simulation']"
   ]
  },
  {
   "cell_type": "code",
   "execution_count": null,
   "metadata": {},
   "outputs": [],
   "source": []
  },
  {
   "cell_type": "markdown",
   "metadata": {},
   "source": [
    "# 3- Run a full simulation"
   ]
  },
  {
   "cell_type": "markdown",
   "metadata": {},
   "source": [
    "### Load the full parameter tree\n",
    "\n",
    "The full parameter tree can be loaded from a single file, or from multiple files which are merged"
   ]
  },
  {
   "cell_type": "markdown",
   "metadata": {},
   "source": [
    "- __From a single file__ by using the `yaml.load`  or the `ParamsTree.read` methods"
   ]
  },
  {
   "cell_type": "code",
   "execution_count": 141,
   "metadata": {},
   "outputs": [
    {
     "data": {
      "text/plain": [
       "ParamsTree(name='None', parent=None)\n",
       "  params: {}\n",
       "  nest_params: {}\n",
       "  kernel:\n",
       "    params:\n",
       "      nest_seed: 10\n",
       "      extension_modules: []\n",
       "    nest_params:\n",
       "      resolution: 0.5\n",
       "      overwrite_files: true\n",
       "  simulation:\n",
       "    params:\n",
       "      output_dir: data_tuto/output\n",
       "      sessions:\n",
       "      - warmup\n",
       "      - 3_spikes\n",
       "  \n",
       "  ... [168 lines] ...\n",
       "\n",
       "        - layers:\n",
       "          - input_layer\n",
       "          populations: null\n",
       "          model: my_spike_detector\n",
       "        projection_recorders:\n",
       "        - source_layers:\n",
       "          - l1\n",
       "          source_population: l1_exc\n",
       "          target_layers:\n",
       "          - l1\n",
       "          target_population: l1_inh\n",
       "          projection_model: proj_1_AMPA\n",
       "          model: weight_recorder\n",
       "      nest_params: {}\n",
       "  "
      ]
     },
     "execution_count": 141,
     "metadata": {},
     "output_type": "execute_result"
    }
   ],
   "source": [
    "ParamsTree.read(PARAMS_DIR/'parameter_tree.yml')"
   ]
  },
  {
   "cell_type": "markdown",
   "metadata": {},
   "source": [
    "- __By merging multiple files__, using the `denest.load_trees` method"
   ]
  },
  {
   "cell_type": "code",
   "execution_count": 143,
   "metadata": {},
   "outputs": [
    {
     "name": "stdout",
     "output_type": "stream",
     "text": [
      "'./network_tree.yml'\r\n",
      "'./simulation.yml'\r\n",
      "'./session_models.yml'\r\n",
      "'./kernel.yml'\r\n"
     ]
    }
   ],
   "source": [
    "!cat {PARAMS_DIR/'tree_paths.yml'}"
   ]
  },
  {
   "cell_type": "code",
   "execution_count": 147,
   "metadata": {},
   "outputs": [
    {
     "name": "stderr",
     "output_type": "stream",
     "text": [
      "2020-06-26 16:02:03,002 [denest] INFO: Loading parameter file paths from data_tuto/params/tree_paths.yml\n",
      "2020-06-26 16:02:03,015 [denest] INFO: Finished loading parameter file paths\n",
      "2020-06-26 16:02:03,018 [denest] INFO: Loading parameters files: \n",
      "['./network_tree.yml',\n",
      " './simulation.yml',\n",
      " './session_models.yml',\n",
      " './kernel.yml']\n"
     ]
    }
   ],
   "source": [
    "full_tree = load_trees(PARAMS_DIR/'tree_paths.yml')"
   ]
  },
  {
   "cell_type": "code",
   "execution_count": 146,
   "metadata": {},
   "outputs": [
    {
     "data": {
      "text/plain": [
       "ParamsTree(name='data_tuto/params/tree_paths.yml', parent=None)\n",
       "  params: {}\n",
       "  nest_params: {}\n",
       "  synapse_models:\n",
       "    params: {}\n",
       "    nest_params: {}\n",
       "    my_GABAA_synapse:\n",
       "      params:\n",
       "        nest_model: ht_synapse\n",
       "        receptor_type: GABA_A\n",
       "        target_neuron: ht_neuron\n",
       "      nest_params: {}\n",
       "    my_AMPA_synapse:\n",
       "      params:\n",
       "        nest_model: ht_synapse\n",
       "        receptor_type: AMPA\n",
       "  \n",
       "  ... [165 lines] ...\n",
       "\n",
       "        - l1\n",
       "        source_population: l1_exc\n",
       "        target_layers:\n",
       "        - l1\n",
       "        target_population: l1_inh\n",
       "        projection_model: proj_1_AMPA\n",
       "      - source_layers:\n",
       "        - l1\n",
       "        source_population: l1_inh\n",
       "        target_layers:\n",
       "        - l1\n",
       "        target_population: l1_exc\n",
       "        projection_model: proj_2_GABAA\n",
       "    nest_params: {}\n",
       "  "
      ]
     },
     "execution_count": 146,
     "metadata": {},
     "output_type": "execute_result"
    }
   ],
   "source": [
    "full_tree"
   ]
  },
  {
   "cell_type": "markdown",
   "metadata": {},
   "source": [
    "## A. Run with the `Simulation` object"
   ]
  },
  {
   "cell_type": "code",
   "execution_count": 117,
   "metadata": {},
   "outputs": [],
   "source": [
    "# We load the full parameter tree.\n",
    "\n",
    "tree = ParamsTree.read(PARAMS_DIR/'parameter_tree.yml')"
   ]
  },
  {
   "cell_type": "code",
   "execution_count": 152,
   "metadata": {},
   "outputs": [
    {
     "name": "stderr",
     "output_type": "stream",
     "text": [
      "2020-06-26 16:08:46,977 [denest.utils.validation] INFO: Object `simulation`: params: using default value for optional parameters:\n",
      "{'input_dir': 'input'}\n",
      "2020-06-26 16:08:46,979 [denest.simulation] INFO: Initializing NEST kernel and seeds...\n",
      "2020-06-26 16:08:46,980 [denest.simulation] INFO:   Resetting NEST kernel...\n",
      "2020-06-26 16:08:46,997 [denest.simulation] INFO:   Setting NEST kernel status...\n",
      "2020-06-26 16:08:46,998 [denest.simulation] INFO:     Calling `nest.SetKernelStatus({'resolution': 0.5, 'overwrite_files': True})`\n",
      "2020-06-26 16:08:47,001 [denest.simulation] INFO:     Calling `nest.SetKernelStatus({'data_path': 'data_tuto/output/data', 'grng_seed': 11, 'rng_seeds': range(12, 13)})\n",
      "2020-06-26 16:08:47,005 [denest.simulation] INFO:   Finished setting NEST kernel status\n",
      "2020-06-26 16:08:47,006 [denest.simulation] INFO:   Installing external modules...\n",
      "2020-06-26 16:08:47,007 [denest.simulation] INFO:   Finished installing external modules\n",
      "2020-06-26 16:08:47,008 [denest.simulation] INFO: Finished initializing kernel\n",
      "2020-06-26 16:08:47,009 [denest.simulation] INFO: Build N=3 session models\n",
      "2020-06-26 16:08:47,011 [denest.simulation] INFO: Build N=4 sessions\n",
      "2020-06-26 16:08:47,012 [denest.session] INFO: Creating session \"00_warmup\"\n",
      "2020-06-26 16:08:47,015 [denest.utils.validation] INFO: Object `00_warmup`: params: using default value for optional parameters:\n",
      "{'reset_network': False, 'synapse_changes': [], 'unit_changes': []}\n",
      "2020-06-26 16:08:47,016 [denest.session] INFO: Creating session \"01_3_spikes\"\n",
      "2020-06-26 16:08:47,017 [denest.utils.validation] INFO: Object `01_3_spikes`: params: using default value for optional parameters:\n",
      "{'reset_network': False, 'synapse_changes': []}\n",
      "2020-06-26 16:08:47,018 [denest.session] INFO: Creating session \"02_2_spikes\"\n",
      "2020-06-26 16:08:47,020 [denest.utils.validation] INFO: Object `02_2_spikes`: params: using default value for optional parameters:\n",
      "{'reset_network': False, 'synapse_changes': []}\n",
      "2020-06-26 16:08:47,022 [denest.session] INFO: Creating session \"03_3_spikes\"\n",
      "2020-06-26 16:08:47,024 [denest.utils.validation] INFO: Object `03_3_spikes`: params: using default value for optional parameters:\n",
      "{'reset_network': False, 'synapse_changes': []}\n",
      "2020-06-26 16:08:47,025 [denest.simulation] INFO: Sessions: ['00_warmup', '01_3_spikes', '02_2_spikes', '03_3_spikes']\n",
      "2020-06-26 16:08:47,029 [denest.simulation] INFO: Building network.\n",
      "2020-06-26 16:08:47,047 [denest.network] INFO: Build N=2 ``Model`` objects\n",
      "2020-06-26 16:08:47,049 [denest.network] INFO: Build N=2 ``SynapseModel`` objects\n",
      "2020-06-26 16:08:47,051 [denest.network] INFO: Build N=3 ``Model`` objects\n",
      "2020-06-26 16:08:47,054 [denest.network] INFO: Build N=2 ``Layer`` or ``InputLayer`` objects.\n",
      "2020-06-26 16:08:47,055 [denest.utils.validation] INFO: Object `proj_1_AMPA`: params: using default value for optional parameters:\n",
      "{'type': 'topological'}\n",
      "2020-06-26 16:08:47,057 [denest.utils.validation] INFO: Object `proj_2_GABAA`: params: using default value for optional parameters:\n",
      "{'type': 'topological'}\n",
      "2020-06-26 16:08:47,058 [denest.network] INFO: Build N=2 ``ProjectionModel`` objects\n",
      "2020-06-26 16:08:47,091 [denest.network] INFO: Build N=3 ``TopoProjection`` objects\n",
      "2020-06-26 16:08:47,107 [denest.network] INFO: Build N=2 population recorders.\n",
      "2020-06-26 16:08:47,125 [denest.network] INFO: Build N=1 projection recorders.\n",
      "2020-06-26 16:08:47,127 [denest.simulation] INFO: Creating network.\n",
      "2020-06-26 16:08:47,133 [denest.network] INFO: Creating neuron models...\n",
      "100%|██████████| 2/2 [00:00<00:00, 1313.18it/s]\n",
      "2020-06-26 16:08:47,145 [denest.network] INFO: Creating synapse models...\n",
      "100%|██████████| 2/2 [00:00<00:00, 431.62it/s]\n",
      "2020-06-26 16:08:47,161 [denest.network] INFO: Creating recorder models...\n",
      "100%|██████████| 3/3 [00:00<00:00, 3472.11it/s]\n",
      "2020-06-26 16:08:47,173 [denest.network] INFO: Creating layers...\n",
      "100%|██████████| 2/2 [00:00<00:00,  6.19it/s]\n",
      "2020-06-26 16:08:47,502 [denest.network] INFO: Creating population recorders...\n",
      "100%|██████████| 2/2 [00:00<00:00, 92.39it/s]\n",
      "2020-06-26 16:08:47,527 [denest.network] INFO: Creating projection recorders...\n",
      "100%|██████████| 1/1 [00:00<00:00, 89.01it/s]\n",
      "2020-06-26 16:08:47,545 [denest.network] INFO: Connecting layers...\n",
      "100%|██████████| 3/3 [00:00<00:00, 117.98it/s]\n",
      "2020-06-26 16:08:47,589 [denest.network] INFO: Network size (including recorders and parrot neurons):\n",
      "Number of nodes: 206\n",
      "Number of projections: 6650\n",
      "2020-06-26 16:08:47,597 [denest.simulation] INFO: Finished creating network\n",
      "2020-06-26 16:08:47,599 [denest.simulation] INFO: Saving simulation metadata...\n",
      "2020-06-26 16:08:47,603 [denest.simulation] INFO: Creating output directory: data_tuto/output\n",
      "2020-06-26 16:08:47,811 [denest.simulation] INFO: Finished saving simulation metadata\n"
     ]
    }
   ],
   "source": [
    "# Initialize the simulation\n",
    "sim = Simulation(tree, output_dir=None, input_dir=None)"
   ]
  },
  {
   "cell_type": "code",
   "execution_count": 153,
   "metadata": {},
   "outputs": [
    {
     "data": {
      "text/plain": [
       "Network(params: {}\n",
       "nest_params: {}\n",
       "neuron_models:\n",
       "  params: {}\n",
       "  nest_params: {}\n",
       "  my_neuron:\n",
       "    params:\n",
       "      nest_model: ht_neuron\n",
       "    nest_params:\n",
       "      g_KL: 1.0\n",
       "      g_NaL: 1.0\n",
       "    l1_exc:\n",
       "      params: {}\n",
       "      nest_params:\n",
       "        V_m: -44.0\n",
       "    l1_inh:\n",
       "      params: {}\n",
       "      nest_params:\n",
       "        V_m: -55.0\n",
       "synapse_models:\n",
       "  params: {}\n",
       "  nest_params: {}\n",
       "  my_AMPA_synapse:\n",
       "    params:\n",
       "      nest_model: ht_synapse\n",
       "      receptor_type: AMPA\n",
       "      target_neuron: ht_neuron\n",
       "    nest_params: {}\n",
       "  my_GABAA_synapse:\n",
       "    params:\n",
       "      nest_model: ht_synapse\n",
       "      receptor_type: GABA_A\n",
       "      target_neuron: ht_neuron\n",
       "    nest_params: {}\n",
       "layers:\n",
       "  params: {}\n",
       "  nest_params: {}\n",
       "  layers:\n",
       "    params:\n",
       "      type: null\n",
       "    nest_params:\n",
       "      rows: 5\n",
       "      columns: 5\n",
       "      extent:\n",
       "      - 5.0\n",
       "      - 5.0\n",
       "      edge_wrap: true\n",
       "    input_layer:\n",
       "      params:\n",
       "        type: InputLayer\n",
       "        add_parrots: true\n",
       "        populations:\n",
       "          spike_generator: 1\n",
       "      nest_params: {}\n",
       "    l1:\n",
       "      params:\n",
       "        populations:\n",
       "          l1_exc: 4\n",
       "          l1_inh: 2\n",
       "      nest_params: {}\n",
       "projection_models:\n",
       "  params: {}\n",
       "  nest_params:\n",
       "    connection_type: divergent\n",
       "    mask:\n",
       "      circular:\n",
       "        radius: 2.0\n",
       "    kernel: 1.0\n",
       "  proj_1_AMPA:\n",
       "    params: {}\n",
       "    nest_params:\n",
       "      synapse_model: my_AMPA_synapse\n",
       "      weights: 1.0\n",
       "  proj_2_GABAA:\n",
       "    params: {}\n",
       "    nest_params:\n",
       "      synapse_model: my_GABAA_synapse\n",
       "      weights: 2.0\n",
       "topology:\n",
       "  params:\n",
       "    projections:\n",
       "    - source_layers:\n",
       "      - input_layer\n",
       "      source_population: parrot_neuron\n",
       "      target_layers:\n",
       "      - l1\n",
       "      target_population: l1_exc\n",
       "      projection_model: proj_1_AMPA\n",
       "    - source_layers:\n",
       "      - l1\n",
       "      source_population: l1_exc\n",
       "      target_layers:\n",
       "      - l1\n",
       "      target_population: l1_inh\n",
       "      projection_model: proj_1_AMPA\n",
       "    - source_layers:\n",
       "      - l1\n",
       "      source_population: l1_inh\n",
       "      target_layers:\n",
       "      - l1\n",
       "      target_population: l1_exc\n",
       "      projection_model: proj_2_GABAA\n",
       "  nest_params: {}\n",
       "recorder_models:\n",
       "  params: {}\n",
       "  nest_params:\n",
       "    record_to:\n",
       "    - memory\n",
       "    - file\n",
       "  weight_recorder:\n",
       "    params:\n",
       "      nest_model: weight_recorder\n",
       "    nest_params: {}\n",
       "  my_multimeter:\n",
       "    params:\n",
       "      nest_model: multimeter\n",
       "    nest_params:\n",
       "      record_from:\n",
       "      - V_m\n",
       "  my_spike_detector:\n",
       "    params:\n",
       "      nest_model: spike_detector\n",
       "    nest_params: {}\n",
       "recorders:\n",
       "  params:\n",
       "    population_recorders:\n",
       "    - layers:\n",
       "      - l1\n",
       "      populations:\n",
       "      - l1_exc\n",
       "      model: my_multimeter\n",
       "    - layers:\n",
       "      - input_layer\n",
       "      populations: null\n",
       "      model: my_spike_detector\n",
       "    projection_recorders:\n",
       "    - source_layers:\n",
       "      - l1\n",
       "      source_population: l1_exc\n",
       "      target_layers:\n",
       "      - l1\n",
       "      target_population: l1_inh\n",
       "      projection_model: proj_1_AMPA\n",
       "      model: weight_recorder\n",
       "  nest_params: {}\n",
       ")"
      ]
     },
     "execution_count": 153,
     "metadata": {},
     "output_type": "execute_result"
    }
   ],
   "source": [
    "# We can inspect the simulation elements\n",
    "sim.network"
   ]
  },
  {
   "cell_type": "code",
   "execution_count": 154,
   "metadata": {},
   "outputs": [
    {
     "data": {
      "text/plain": [
       "[Session(00_warmup, {'record': False,\n",
       "  'reset_network': False,\n",
       "  'shift_origin': True,\n",
       "  'simulation_time': 100.0,\n",
       "  'synapse_changes': [],\n",
       "  'unit_changes': []}),\n",
       " Session(01_3_spikes, {'record': True,\n",
       "  'reset_network': False,\n",
       "  'shift_origin': True,\n",
       "  'simulation_time': 100.0,\n",
       "  'synapse_changes': [],\n",
       "  'unit_changes': [{'layers': ['input_layer'],\n",
       "                    'nest_params': {'spike_times': [1.0, 10.0, 20.0]},\n",
       "                    'population_name': 'spike_generator'}]}),\n",
       " Session(02_2_spikes, {'record': True,\n",
       "  'reset_network': False,\n",
       "  'shift_origin': True,\n",
       "  'simulation_time': 100.0,\n",
       "  'synapse_changes': [],\n",
       "  'unit_changes': [{'layers': ['input_layer'],\n",
       "                    'nest_params': {'spike_times': [1.0, 10.0]},\n",
       "                    'population_name': 'spike_generator'}]}),\n",
       " Session(03_3_spikes, {'record': True,\n",
       "  'reset_network': False,\n",
       "  'shift_origin': True,\n",
       "  'simulation_time': 100.0,\n",
       "  'synapse_changes': [],\n",
       "  'unit_changes': [{'layers': ['input_layer'],\n",
       "                    'nest_params': {'spike_times': [1.0, 10.0, 20.0]},\n",
       "                    'population_name': 'spike_generator'}]})]"
      ]
     },
     "execution_count": 154,
     "metadata": {},
     "output_type": "execute_result"
    }
   ],
   "source": [
    "sim.sessions"
   ]
  },
  {
   "cell_type": "markdown",
   "metadata": {},
   "source": [
    "We actually run all the sessions in NEST by calling `Simulation.run()`"
   ]
  },
  {
   "cell_type": "code",
   "execution_count": 134,
   "metadata": {},
   "outputs": [
    {
     "name": "stderr",
     "output_type": "stream",
     "text": [
      "2020-06-26 15:36:47,637 [denest.simulation] INFO: Running 4 sessions...\n",
      "2020-06-26 15:36:47,638 [denest.simulation] INFO: Running session: '00_warmup'...\n",
      "2020-06-26 15:36:47,641 [denest.session] INFO: Initializing session...\n",
      "2020-06-26 15:36:47,642 [denest.network.recorders] INFO:   Setting status for recorder my_multimeter_l1_l1_exc: {'start': 100.0}\n",
      "2020-06-26 15:36:47,644 [denest.network.recorders] INFO:   Setting status for recorder my_spike_detector_input_layer_parrot_neuron: {'start': 100.0}\n",
      "2020-06-26 15:36:47,645 [denest.network.recorders] INFO:   Setting status for recorder weight_recorder_proj_1_AMPA-l1-l1_exc-l1-l1_inh: {'start': 100.0}\n",
      "2020-06-26 15:36:47,647 [denest.session] INFO: Setting `origin` flag to `0.0` for all stimulation devices in ``InputLayers`` for session `00_warmup`\n",
      "2020-06-26 15:36:47,653 [denest.session] INFO: Finished initializing session\n",
      "\n",
      "2020-06-26 15:36:47,654 [denest.session] INFO: Running session '00_warmup' for 100 ms\n",
      "2020-06-26 15:36:47,803 [denest.session] INFO: Finished running session\n",
      "2020-06-26 15:36:47,804 [denest.session] INFO: Session '00_warmup' virtual running time: 100 ms\n",
      "2020-06-26 15:36:47,805 [denest.session] INFO: Session '00_warmup' real running time: 0h:00m:00s\n",
      "2020-06-26 15:36:47,806 [denest.simulation] INFO: Done running session '00_warmup'\n",
      "2020-06-26 15:36:47,819 [denest.simulation] INFO: Running session: '01_3_spikes'...\n",
      "2020-06-26 15:36:47,821 [denest.session] INFO: Initializing session...\n",
      "2020-06-26 15:36:47,830 [denest.session] INFO: Setting `origin` flag to `100.0` for all stimulation devices in ``InputLayers`` for session `01_3_spikes`\n",
      "2020-06-26 15:36:47,836 [denest.utils.validation] INFO: Object `Unit changes dictionary`: params: using default value for optional parameters:\n",
      "{'change_type': 'constant', 'from_array': False}\n",
      "2020-06-26 15:36:47,858 [denest.network.layers] INFO: Layer='input_layer', pop='spike_generator': Applying 'constant' change, param='spike_times', from single value')\n",
      "2020-06-26 15:36:48,008 [denest.session] INFO: Finished initializing session\n",
      "\n",
      "2020-06-26 15:36:48,011 [denest.session] INFO: Running session '01_3_spikes' for 100 ms\n",
      "2020-06-26 15:36:48,187 [denest.session] INFO: Finished running session\n",
      "2020-06-26 15:36:48,188 [denest.session] INFO: Session '01_3_spikes' virtual running time: 100 ms\n",
      "2020-06-26 15:36:48,189 [denest.session] INFO: Session '01_3_spikes' real running time: 0h:00m:00s\n",
      "2020-06-26 15:36:48,190 [denest.simulation] INFO: Done running session '01_3_spikes'\n",
      "2020-06-26 15:36:48,192 [denest.simulation] INFO: Running session: '02_2_spikes'...\n",
      "2020-06-26 15:36:48,194 [denest.session] INFO: Initializing session...\n",
      "2020-06-26 15:36:48,196 [denest.session] INFO: Setting `origin` flag to `200.0` for all stimulation devices in ``InputLayers`` for session `02_2_spikes`\n",
      "2020-06-26 15:36:48,200 [denest.utils.validation] INFO: Object `Unit changes dictionary`: params: using default value for optional parameters:\n",
      "{'change_type': 'constant', 'from_array': False}\n",
      "2020-06-26 15:36:48,201 [denest.network.layers] INFO: Layer='input_layer', pop='spike_generator': Applying 'constant' change, param='spike_times', from single value')\n",
      "2020-06-26 15:36:48,337 [denest.session] INFO: Finished initializing session\n",
      "\n",
      "2020-06-26 15:36:48,338 [denest.session] INFO: Running session '02_2_spikes' for 100 ms\n",
      "2020-06-26 15:36:48,469 [denest.session] INFO: Finished running session\n",
      "2020-06-26 15:36:48,470 [denest.session] INFO: Session '02_2_spikes' virtual running time: 100 ms\n",
      "2020-06-26 15:36:48,471 [denest.session] INFO: Session '02_2_spikes' real running time: 0h:00m:00s\n",
      "2020-06-26 15:36:48,478 [denest.simulation] INFO: Done running session '02_2_spikes'\n",
      "2020-06-26 15:36:48,481 [denest.simulation] INFO: Running session: '03_3_spikes'...\n",
      "2020-06-26 15:36:48,484 [denest.session] INFO: Initializing session...\n",
      "2020-06-26 15:36:48,486 [denest.session] INFO: Setting `origin` flag to `300.0` for all stimulation devices in ``InputLayers`` for session `03_3_spikes`\n",
      "2020-06-26 15:36:48,493 [denest.utils.validation] INFO: Object `Unit changes dictionary`: params: using default value for optional parameters:\n",
      "{'change_type': 'constant', 'from_array': False}\n",
      "2020-06-26 15:36:48,495 [denest.network.layers] INFO: Layer='input_layer', pop='spike_generator': Applying 'constant' change, param='spike_times', from single value')\n",
      "2020-06-26 15:36:48,645 [denest.session] INFO: Finished initializing session\n",
      "\n",
      "2020-06-26 15:36:48,646 [denest.session] INFO: Running session '03_3_spikes' for 100 ms\n",
      "2020-06-26 15:36:48,802 [denest.session] INFO: Finished running session\n",
      "2020-06-26 15:36:48,803 [denest.session] INFO: Session '03_3_spikes' virtual running time: 100 ms\n",
      "2020-06-26 15:36:48,804 [denest.session] INFO: Session '03_3_spikes' real running time: 0h:00m:00s\n",
      "2020-06-26 15:36:48,811 [denest.simulation] INFO: Done running session '03_3_spikes'\n",
      "2020-06-26 15:36:48,814 [denest.simulation] INFO: Finished running simulation\n"
     ]
    }
   ],
   "source": [
    "sim.run()"
   ]
  },
  {
   "cell_type": "code",
   "execution_count": 124,
   "metadata": {},
   "outputs": [
    {
     "name": "stdout",
     "output_type": "stream",
     "text": [
      "\u001b[1m\u001b[36mdata\u001b[m\u001b[m               git_hash           parameter_tree.yml session_times.yml\r\n"
     ]
    }
   ],
   "source": [
    "!ls {sim.output_dir}"
   ]
  },
  {
   "cell_type": "code",
   "execution_count": 127,
   "metadata": {},
   "outputs": [
    {
     "name": "stdout",
     "output_type": "stream",
     "text": [
      "my_multimeter_l1_l1_exc-203-0.dat\r\n",
      "my_multimeter_l1_l1_exc.yml\r\n",
      "my_spike_detector_input_layer_parrot_neuron-204-0.gdf\r\n",
      "my_spike_detector_input_layer_parrot_neuron.yml\r\n",
      "weight_recorder_conn_1_AMPA-l1-l1_exc-l1-l1_inh-205-0.csv\r\n",
      "weight_recorder_conn_1_AMPA-l1-l1_exc-l1-l1_inh.yml\r\n",
      "weight_recorder_proj_1_AMPA-l1-l1_exc-l1-l1_inh-205-0.csv\r\n",
      "weight_recorder_proj_1_AMPA-l1-l1_exc-l1-l1_inh.yml\r\n"
     ]
    }
   ],
   "source": [
    "!ls {Path(sim.output_dir)/'data'}"
   ]
  },
  {
   "cell_type": "markdown",
   "metadata": {},
   "source": [
    "## B. Using the `denest.run` method"
   ]
  },
  {
   "cell_type": "code",
   "execution_count": 151,
   "metadata": {},
   "outputs": [
    {
     "name": "stderr",
     "output_type": "stream",
     "text": [
      "2020-06-26 16:04:32,193 [denest] INFO: \n",
      "\n",
      "=== RUNNING SIMULATION ========================================================\n",
      "\n",
      "2020-06-26 16:04:32,194 [denest] INFO: Loading parameter file paths from data_tuto/params/tree_paths.yml\n",
      "2020-06-26 16:04:32,197 [denest] INFO: Finished loading parameter file paths\n",
      "2020-06-26 16:04:32,198 [denest] INFO: Loading parameters files: \n",
      "['./network_tree.yml',\n",
      " './simulation.yml',\n",
      " './session_models.yml',\n",
      " './kernel.yml']\n",
      "2020-06-26 16:04:32,246 [denest] INFO: Initializing simulation...\n",
      "2020-06-26 16:04:32,276 [denest.utils.validation] INFO: Object `simulation`: params: using default value for optional parameters:\n",
      "{'input_dir': 'input'}\n",
      "2020-06-26 16:04:32,278 [denest.simulation] INFO: Initializing NEST kernel and seeds...\n",
      "2020-06-26 16:04:32,280 [denest.simulation] INFO:   Resetting NEST kernel...\n",
      "2020-06-26 16:04:32,307 [denest.simulation] INFO:   Setting NEST kernel status...\n",
      "2020-06-26 16:04:32,308 [denest.simulation] INFO:     Calling `nest.SetKernelStatus({'resolution': 0.5, 'overwrite_files': True})`\n",
      "2020-06-26 16:04:32,312 [denest.simulation] INFO:     Calling `nest.SetKernelStatus({'data_path': 'output/data', 'grng_seed': 11, 'rng_seeds': range(12, 13)})\n",
      "2020-06-26 16:04:32,314 [denest.simulation] INFO:   Finished setting NEST kernel status\n",
      "2020-06-26 16:04:32,316 [denest.simulation] INFO:   Installing external modules...\n",
      "2020-06-26 16:04:32,356 [denest.simulation] INFO:   Finished installing external modules\n",
      "2020-06-26 16:04:32,361 [denest.simulation] INFO: Finished initializing kernel\n",
      "2020-06-26 16:04:32,362 [denest.simulation] INFO: Build N=3 session models\n",
      "2020-06-26 16:04:32,367 [denest.simulation] INFO: Build N=4 sessions\n",
      "2020-06-26 16:04:32,383 [denest.session] INFO: Creating session \"00_warmup\"\n",
      "2020-06-26 16:04:32,392 [denest.utils.validation] INFO: Object `00_warmup`: params: using default value for optional parameters:\n",
      "{'reset_network': False, 'synapse_changes': [], 'unit_changes': []}\n",
      "2020-06-26 16:04:32,397 [denest.session] INFO: Creating session \"01_3_spikes\"\n",
      "2020-06-26 16:04:32,404 [denest.utils.validation] INFO: Object `01_3_spikes`: params: using default value for optional parameters:\n",
      "{'reset_network': False, 'synapse_changes': []}\n",
      "2020-06-26 16:04:32,404 [denest.session] INFO: Creating session \"02_2_spikes\"\n",
      "2020-06-26 16:04:32,406 [denest.utils.validation] INFO: Object `02_2_spikes`: params: using default value for optional parameters:\n",
      "{'reset_network': False, 'synapse_changes': []}\n",
      "2020-06-26 16:04:32,408 [denest.session] INFO: Creating session \"03_3_spikes\"\n",
      "2020-06-26 16:04:32,411 [denest.utils.validation] INFO: Object `03_3_spikes`: params: using default value for optional parameters:\n",
      "{'reset_network': False, 'synapse_changes': []}\n",
      "2020-06-26 16:04:32,416 [denest.simulation] INFO: Sessions: ['00_warmup', '01_3_spikes', '02_2_spikes', '03_3_spikes']\n",
      "2020-06-26 16:04:32,431 [denest.simulation] INFO: Building network.\n",
      "2020-06-26 16:04:32,481 [denest.network] INFO: Build N=2 ``Model`` objects\n",
      "2020-06-26 16:04:32,483 [denest.network] INFO: Build N=2 ``SynapseModel`` objects\n",
      "2020-06-26 16:04:32,488 [denest.network] INFO: Build N=3 ``Model`` objects\n",
      "2020-06-26 16:04:32,495 [denest.network] INFO: Build N=2 ``Layer`` or ``InputLayer`` objects.\n",
      "2020-06-26 16:04:32,498 [denest.utils.validation] INFO: Object `proj_1_AMPA`: params: using default value for optional parameters:\n",
      "{'type': 'topological'}\n",
      "2020-06-26 16:04:32,500 [denest.utils.validation] INFO: Object `proj_2_GABAA`: params: using default value for optional parameters:\n",
      "{'type': 'topological'}\n",
      "2020-06-26 16:04:32,501 [denest.network] INFO: Build N=2 ``ProjectionModel`` objects\n",
      "2020-06-26 16:04:32,506 [denest.network] INFO: Build N=3 ``TopoProjection`` objects\n",
      "2020-06-26 16:04:32,520 [denest.network] INFO: Build N=2 population recorders.\n",
      "2020-06-26 16:04:32,528 [denest.network] INFO: Build N=1 projection recorders.\n",
      "2020-06-26 16:04:32,533 [denest.simulation] INFO: Creating network.\n",
      "2020-06-26 16:04:32,537 [denest.network] INFO: Creating neuron models...\n",
      "100%|██████████| 2/2 [00:00<00:00, 773.07it/s]\n",
      "2020-06-26 16:04:32,546 [denest.network] INFO: Creating synapse models...\n",
      "100%|██████████| 2/2 [00:00<00:00, 791.15it/s]\n",
      "2020-06-26 16:04:32,566 [denest.network] INFO: Creating recorder models...\n",
      "100%|██████████| 3/3 [00:00<00:00, 776.15it/s]\n",
      "2020-06-26 16:04:32,583 [denest.network] INFO: Creating layers...\n",
      "100%|██████████| 2/2 [00:00<00:00,  6.78it/s]\n",
      "2020-06-26 16:04:32,891 [denest.network] INFO: Creating population recorders...\n",
      "100%|██████████| 2/2 [00:00<00:00, 111.66it/s]\n",
      "2020-06-26 16:04:32,914 [denest.network] INFO: Creating projection recorders...\n",
      "100%|██████████| 1/1 [00:00<00:00, 397.60it/s]\n",
      "2020-06-26 16:04:32,923 [denest.network] INFO: Connecting layers...\n",
      "100%|██████████| 3/3 [00:00<00:00, 243.64it/s]\n",
      "2020-06-26 16:04:32,944 [denest.network] INFO: Network size (including recorders and parrot neurons):\n",
      "Number of nodes: 206\n",
      "Number of projections: 6650\n",
      "2020-06-26 16:04:32,954 [denest.simulation] INFO: Finished creating network\n",
      "2020-06-26 16:04:32,955 [denest.simulation] INFO: Saving simulation metadata...\n",
      "2020-06-26 16:04:32,957 [denest.simulation] INFO: Creating output directory: output\n",
      "2020-06-26 16:04:33,425 [denest.simulation] INFO: Finished saving simulation metadata\n",
      "2020-06-26 16:04:33,431 [denest] INFO: Finished initializing simulation\n",
      "2020-06-26 16:04:33,435 [denest] INFO: Running simulation...\n",
      "2020-06-26 16:04:33,437 [denest.simulation] INFO: Running 4 sessions...\n",
      "2020-06-26 16:04:33,445 [denest.simulation] INFO: Running session: '00_warmup'...\n",
      "2020-06-26 16:04:33,458 [denest.session] INFO: Initializing session...\n",
      "2020-06-26 16:04:33,465 [denest.network.recorders] INFO:   Setting status for recorder my_multimeter_l1_l1_exc: {'start': 100.0}\n",
      "2020-06-26 16:04:33,467 [denest.network.recorders] INFO:   Setting status for recorder my_spike_detector_input_layer_parrot_neuron: {'start': 100.0}\n",
      "2020-06-26 16:04:33,470 [denest.network.recorders] INFO:   Setting status for recorder weight_recorder_proj_1_AMPA-l1-l1_exc-l1-l1_inh: {'start': 100.0}\n",
      "2020-06-26 16:04:33,474 [denest.session] INFO: Setting `origin` flag to `0.0` for all stimulation devices in ``InputLayers`` for session `00_warmup`\n",
      "2020-06-26 16:04:33,495 [denest.session] INFO: Finished initializing session\n",
      "\n",
      "2020-06-26 16:04:33,499 [denest.session] INFO: Running session '00_warmup' for 100 ms\n",
      "2020-06-26 16:04:33,775 [denest.session] INFO: Finished running session\n",
      "2020-06-26 16:04:33,776 [denest.session] INFO: Session '00_warmup' virtual running time: 100 ms\n",
      "2020-06-26 16:04:33,790 [denest.session] INFO: Session '00_warmup' real running time: 0h:00m:00s\n",
      "2020-06-26 16:04:33,815 [denest.simulation] INFO: Done running session '00_warmup'\n",
      "2020-06-26 16:04:33,823 [denest.simulation] INFO: Running session: '01_3_spikes'...\n",
      "2020-06-26 16:04:33,841 [denest.session] INFO: Initializing session...\n",
      "2020-06-26 16:04:33,843 [denest.session] INFO: Setting `origin` flag to `100.0` for all stimulation devices in ``InputLayers`` for session `01_3_spikes`\n",
      "2020-06-26 16:04:33,855 [denest.utils.validation] INFO: Object `Unit changes dictionary`: params: using default value for optional parameters:\n",
      "{'change_type': 'constant', 'from_array': False}\n",
      "2020-06-26 16:04:33,858 [denest.network.layers] INFO: Layer='input_layer', pop='spike_generator': Applying 'constant' change, param='spike_times', from single value')\n",
      "2020-06-26 16:04:34,076 [denest.session] INFO: Finished initializing session\n",
      "\n",
      "2020-06-26 16:04:34,079 [denest.session] INFO: Running session '01_3_spikes' for 100 ms\n",
      "2020-06-26 16:04:34,356 [denest.session] INFO: Finished running session\n",
      "2020-06-26 16:04:34,357 [denest.session] INFO: Session '01_3_spikes' virtual running time: 100 ms\n",
      "2020-06-26 16:04:34,357 [denest.session] INFO: Session '01_3_spikes' real running time: 0h:00m:00s\n",
      "2020-06-26 16:04:34,359 [denest.simulation] INFO: Done running session '01_3_spikes'\n",
      "2020-06-26 16:04:34,360 [denest.simulation] INFO: Running session: '02_2_spikes'...\n",
      "2020-06-26 16:04:34,365 [denest.session] INFO: Initializing session...\n",
      "2020-06-26 16:04:34,368 [denest.session] INFO: Setting `origin` flag to `200.0` for all stimulation devices in ``InputLayers`` for session `02_2_spikes`\n"
     ]
    },
    {
     "name": "stderr",
     "output_type": "stream",
     "text": [
      "2020-06-26 16:04:34,373 [denest.utils.validation] INFO: Object `Unit changes dictionary`: params: using default value for optional parameters:\n",
      "{'change_type': 'constant', 'from_array': False}\n",
      "2020-06-26 16:04:34,374 [denest.network.layers] INFO: Layer='input_layer', pop='spike_generator': Applying 'constant' change, param='spike_times', from single value')\n",
      "2020-06-26 16:04:34,499 [denest.session] INFO: Finished initializing session\n",
      "\n",
      "2020-06-26 16:04:34,501 [denest.session] INFO: Running session '02_2_spikes' for 100 ms\n",
      "2020-06-26 16:04:34,978 [denest.session] INFO: Finished running session\n",
      "2020-06-26 16:04:34,978 [denest.session] INFO: Session '02_2_spikes' virtual running time: 100 ms\n",
      "2020-06-26 16:04:34,979 [denest.session] INFO: Session '02_2_spikes' real running time: 0h:00m:00s\n",
      "2020-06-26 16:04:34,981 [denest.simulation] INFO: Done running session '02_2_spikes'\n",
      "2020-06-26 16:04:34,984 [denest.simulation] INFO: Running session: '03_3_spikes'...\n",
      "2020-06-26 16:04:34,991 [denest.session] INFO: Initializing session...\n",
      "2020-06-26 16:04:34,994 [denest.session] INFO: Setting `origin` flag to `300.0` for all stimulation devices in ``InputLayers`` for session `03_3_spikes`\n",
      "2020-06-26 16:04:35,005 [denest.utils.validation] INFO: Object `Unit changes dictionary`: params: using default value for optional parameters:\n",
      "{'change_type': 'constant', 'from_array': False}\n",
      "2020-06-26 16:04:35,014 [denest.network.layers] INFO: Layer='input_layer', pop='spike_generator': Applying 'constant' change, param='spike_times', from single value')\n",
      "2020-06-26 16:04:35,113 [denest.session] INFO: Finished initializing session\n",
      "\n",
      "2020-06-26 16:04:35,114 [denest.session] INFO: Running session '03_3_spikes' for 100 ms\n",
      "2020-06-26 16:04:35,395 [denest.session] INFO: Finished running session\n",
      "2020-06-26 16:04:35,398 [denest.session] INFO: Session '03_3_spikes' virtual running time: 100 ms\n",
      "2020-06-26 16:04:35,409 [denest.session] INFO: Session '03_3_spikes' real running time: 0h:00m:00s\n",
      "2020-06-26 16:04:35,425 [denest.simulation] INFO: Done running session '03_3_spikes'\n",
      "2020-06-26 16:04:35,426 [denest.simulation] INFO: Finished running simulation\n",
      "2020-06-26 16:04:35,442 [denest] INFO: Finished running simulation\n",
      "2020-06-26 16:04:35,444 [denest] INFO: Total simulation virtual time: 400.0 ms\n",
      "2020-06-26 16:04:35,451 [denest] INFO: Total simulation real time: 0h:00m:03s\n",
      "2020-06-26 16:04:35,482 [denest] INFO: Simulation output written to: /Users/tom/docker/nets-dev/docs/output\n"
     ]
    }
   ],
   "source": [
    "denest.run(PARAMS_DIR/'tree_paths.yml')"
   ]
  },
  {
   "cell_type": "markdown",
   "metadata": {},
   "source": [
    "## From the command line\n",
    "\n",
    "``python3 -m denest <tree_paths.yml> [-o <output_dir>]``"
   ]
  }
 ],
 "metadata": {
  "kernelspec": {
   "display_name": "nets",
   "language": "python",
   "name": "nets"
  },
  "language_info": {
   "codemirror_mode": {
    "name": "ipython",
    "version": 3
   },
   "file_extension": ".py",
   "mimetype": "text/x-python",
   "name": "python",
   "nbconvert_exporter": "python",
   "pygments_lexer": "ipython3",
   "version": "3.7.5"
  }
 },
 "nbformat": 4,
 "nbformat_minor": 4
}
