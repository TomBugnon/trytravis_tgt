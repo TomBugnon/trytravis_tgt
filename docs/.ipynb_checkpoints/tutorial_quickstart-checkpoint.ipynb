{
 "cells": [
  {
   "cell_type": "markdown",
   "metadata": {},
   "source": [
    "# Let's familiarize ourselves with the ``Network`` object\n",
    "\n",
    "__...by interactively building the elements of the network one by one__\n",
    "\n",
    "In this tutorial we explore the following :\n",
    "\n",
    "1. Network parameters\n",
    "2. __Initialize all the elements of the network__ using  the ``Network.build_*`` methods\n",
    "    1. Models (neuron models, recorder models, synapse models\n",
    "    2. Layers\n",
    "    3. Projection models\n",
    "    4. Individual projections\n",
    "    5. Population and projection recorders\n",
    "3. __Create the network__ in NEST\n",
    "4. __Access the network elements__ (GIDs, etc)\n",
    "4. Export and reuse the parameter tree allowing us to __replicate the network__"
   ]
  },
  {
   "cell_type": "code",
   "execution_count": 1,
   "metadata": {},
   "outputs": [
    {
     "name": "stdout",
     "output_type": "stream",
     "text": [
      "The autoreload extension is already loaded. To reload it, use:\n",
      "  %reload_ext autoreload\n"
     ]
    }
   ],
   "source": [
    "%load_ext autoreload\n",
    "%autoreload 2\n",
    "\n",
    "import nest\n",
    "import yaml\n",
    "from pathlib import Path\n",
    "from pprint import pprint"
   ]
  },
  {
   "cell_type": "code",
   "execution_count": 2,
   "metadata": {},
   "outputs": [],
   "source": [
    "from denest import *\n",
    "import denest"
   ]
  },
  {
   "cell_type": "code",
   "execution_count": 3,
   "metadata": {},
   "outputs": [],
   "source": [
    "PARAMS_DIR = Path('./data_tuto/params')\n",
    "OUTPUT_DIR = Path('./data_tuto/output')"
   ]
  },
  {
   "cell_type": "markdown",
   "metadata": {},
   "source": [
    "## 1- Initialize an empty network\n",
    "\n",
    "When initialized without argument or with an empty tree as an argument, all the expected subtrees are initialized as empty.\n",
    "\n",
    "When building the elements interactively, the network's parameters are updated"
   ]
  },
  {
   "cell_type": "code",
   "execution_count": 4,
   "metadata": {},
   "outputs": [
    {
     "name": "stderr",
     "output_type": "stream",
     "text": [
      "2020-06-25 16:00:35,875 [denest.utils.validation] INFO: 'None' tree: adding empty child neuron_models\n",
      "2020-06-25 16:00:35,877 [denest.utils.validation] INFO: 'None' tree: adding empty child synapse_models\n",
      "2020-06-25 16:00:35,878 [denest.utils.validation] INFO: 'None' tree: adding empty child layers\n",
      "2020-06-25 16:00:35,879 [denest.utils.validation] INFO: 'None' tree: adding empty child projection_models\n",
      "2020-06-25 16:00:35,880 [denest.utils.validation] INFO: 'None' tree: adding empty child topology\n",
      "2020-06-25 16:00:35,882 [denest.utils.validation] INFO: 'None' tree: adding empty child recorder_models\n",
      "2020-06-25 16:00:35,883 [denest.utils.validation] INFO: 'None' tree: adding empty child recorders\n",
      "2020-06-25 16:00:35,885 [denest.network] INFO: Build N=0 ``Model`` objects\n",
      "2020-06-25 16:00:35,886 [denest.network] INFO: Build N=0 ``SynapseModel`` objects\n",
      "2020-06-25 16:00:35,889 [denest.network] INFO: Build N=0 ``Model`` objects\n",
      "2020-06-25 16:00:35,890 [denest.network] INFO: Build N=0 ``Layer`` or ``InputLayer`` objects.\n",
      "2020-06-25 16:00:35,892 [denest.network] INFO: Build N=0 ``ProjectionModel`` objects\n",
      "2020-06-25 16:00:35,894 [denest.utils.validation] INFO: Object `topology`: params: using default value for optional parameters:\n",
      "{'projections': []}\n",
      "2020-06-25 16:00:35,895 [denest.network] INFO: Build N=0 ``TopoProjection`` objects\n",
      "2020-06-25 16:00:35,897 [denest.utils.validation] INFO: Object `recorders`: params: using default value for optional parameters:\n",
      "{'population_recorders': [], 'projection_recorders': []}\n",
      "2020-06-25 16:00:35,900 [denest.network] INFO: Build N=0 population recorders.\n",
      "2020-06-25 16:00:35,902 [denest.network] INFO: Build N=0 projection recorders.\n",
      "2020-06-25 16:00:35,904 [denest.utils.validation] INFO: Object `topology`: params: using default value for optional parameters:\n",
      "{'projections': []}\n",
      "2020-06-25 16:00:35,906 [denest.network] INFO: Build N=0 ``TopoProjection`` objects\n",
      "2020-06-25 16:00:35,908 [denest.utils.validation] INFO: Object `recorders`: params: using default value for optional parameters:\n",
      "{'population_recorders': [], 'projection_recorders': []}\n",
      "2020-06-25 16:00:35,909 [denest.network] INFO: Build N=0 population recorders.\n",
      "2020-06-25 16:00:35,910 [denest.network] INFO: Build N=0 projection recorders.\n"
     ]
    }
   ],
   "source": [
    "net = Network()"
   ]
  },
  {
   "cell_type": "code",
   "execution_count": 5,
   "metadata": {},
   "outputs": [
    {
     "data": {
      "text/plain": [
       "ParamsTree(name='None', parent=None)\n",
       "  params: {}\n",
       "  nest_params: {}\n",
       "  neuron_models:\n",
       "    params: {}\n",
       "    nest_params: {}\n",
       "  synapse_models:\n",
       "    params: {}\n",
       "    nest_params: {}\n",
       "  layers:\n",
       "    params: {}\n",
       "    nest_params: {}\n",
       "  projection_models:\n",
       "    params: {}\n",
       "    nest_params: {}\n",
       "  topology:\n",
       "    params: {}\n",
       "    nest_params: {}\n",
       "  recorder_models:\n",
       "    params: {}\n",
       "    nest_params: {}\n",
       "  recorders:\n",
       "    params: {}\n",
       "    nest_params: {}\n",
       "  "
      ]
     },
     "execution_count": 5,
     "metadata": {},
     "output_type": "execute_result"
    }
   ],
   "source": [
    "# Network parameter tree is empty:\n",
    "net.tree"
   ]
  },
  {
   "cell_type": "markdown",
   "metadata": {},
   "source": [
    "## 2- Build the network components (models, layers, projections, recorders)\n"
   ]
  },
  {
   "cell_type": "markdown",
   "metadata": {},
   "source": [
    "### Define new models\n",
    "\n",
    "We can define neuron, recorder, stimulator and synapse models with arbitrary parameters from parameter trees.\n",
    "\n",
    "Each leaf corresponds to a new (named) model. Its ``nest_params`` and ``params`` are hierarchically inherited.\n",
    "\n",
    "The ``nest_model`` used is specified in the leaf's ``params``"
   ]
  },
  {
   "cell_type": "markdown",
   "metadata": {},
   "source": [
    "#### ``'neuron_models'`` tree:\n",
    "\n",
    "Initalize ``Network.neuron_models`` with the ``Network.build_neuron_models`` method"
   ]
  },
  {
   "cell_type": "code",
   "execution_count": 6,
   "metadata": {},
   "outputs": [
    {
     "name": "stdout",
     "output_type": "stream",
     "text": [
      "ParamsTree(name='neuron_models', parent='None')\n",
      "  params: {}\n",
      "  nest_params: {}\n",
      "  my_neuron:\n",
      "    params:\n",
      "      nest_model: ht_neuron\n",
      "    nest_params:\n",
      "      g_KL: 1.0\n",
      "      g_NaL: 1.0\n",
      "    l1_exc:\n",
      "      params: {}\n",
      "      nest_params:\n",
      "        V_m: -44.0\n",
      "    l1_inh:\n",
      "      params: {}\n",
      "      nest_params:\n",
      "        V_m: -55.0\n",
      "  \n"
     ]
    }
   ],
   "source": [
    "neuron_models_tree = ParamsTree.read(PARAMS_DIR/'models.yml').children['neuron_models']\n",
    "pprint(neuron_models_tree)"
   ]
  },
  {
   "cell_type": "code",
   "execution_count": 7,
   "metadata": {},
   "outputs": [
    {
     "name": "stderr",
     "output_type": "stream",
     "text": [
      "2020-06-25 16:00:36,113 [denest.network] INFO: Build N=2 ``Model`` objects\n"
     ]
    }
   ],
   "source": [
    "net.build_neuron_models(neuron_models_tree)"
   ]
  },
  {
   "cell_type": "code",
   "execution_count": 8,
   "metadata": {},
   "outputs": [
    {
     "name": "stdout",
     "output_type": "stream",
     "text": [
      "\n",
      "``Network.neuron_models`` :\n",
      "{'l1_exc': Model(l1_exc, {'nest_model': 'ht_neuron'}, {'V_m': -44.0, 'g_KL': 1.0, 'g_NaL': 1.0}),\n",
      " 'l1_inh': Model(l1_inh, {'nest_model': 'ht_neuron'}, {'V_m': -55.0, 'g_KL': 1.0, 'g_NaL': 1.0})}\n"
     ]
    }
   ],
   "source": [
    "# The neuron models are saved as an attribute for the Network object\n",
    "print(\"\\n``Network.neuron_models`` :\")\n",
    "pprint(net.neuron_models)"
   ]
  },
  {
   "cell_type": "code",
   "execution_count": 9,
   "metadata": {},
   "outputs": [
    {
     "name": "stdout",
     "output_type": "stream",
     "text": [
      "Model(l1_exc, {'nest_model': 'ht_neuron'}, {'V_m': -44.0, 'g_KL': 1.0, 'g_NaL': 1.0})\n",
      "{'nest_model': 'ht_neuron'}\n",
      "{'V_m': -44.0, 'g_KL': 1.0, 'g_NaL': 1.0}\n"
     ]
    }
   ],
   "source": [
    "pprint(net.neuron_models['l1_exc'])\n",
    "pprint(net.neuron_models['l1_exc'].params)\n",
    "pprint(net.neuron_models['l1_exc'].nest_params)"
   ]
  },
  {
   "cell_type": "markdown",
   "metadata": {},
   "source": [
    "#### ``'recorder_models'`` tree:\n",
    "\n",
    "Initalize ``Network.recorder_models`` with the ``Network.build_recorder_models`` method\n",
    "\n",
    "-> Same thing as for neuron models"
   ]
  },
  {
   "cell_type": "code",
   "execution_count": 10,
   "metadata": {},
   "outputs": [
    {
     "data": {
      "text/plain": [
       "ParamsTree(name='recorder_models', parent='None')\n",
       "  params: {}\n",
       "  nest_params:\n",
       "    record_to:\n",
       "    - memory\n",
       "    - file\n",
       "  weight_recorder:\n",
       "    params:\n",
       "      nest_model: weight_recorder\n",
       "    nest_params: {}\n",
       "  my_multimeter:\n",
       "    params:\n",
       "      nest_model: multimeter\n",
       "    nest_params:\n",
       "      record_from:\n",
       "      - V_m\n",
       "  my_spike_detector:\n",
       "    params:\n",
       "      nest_model: spike_detector\n",
       "    nest_params: {}\n",
       "  "
      ]
     },
     "execution_count": 10,
     "metadata": {},
     "output_type": "execute_result"
    }
   ],
   "source": [
    "# ``Network.build_*`` methods accept as argument ``ParamsTree`` objects, but also tree-like dictionaries \n",
    "recorder_models_tree = ParamsTree.read(PARAMS_DIR/'models.yml').children['recorder_models']\n",
    "recorder_models_tree"
   ]
  },
  {
   "cell_type": "code",
   "execution_count": 11,
   "metadata": {},
   "outputs": [
    {
     "data": {
      "text/plain": [
       "{'params': {},\n",
       " 'nest_params': {'record_to': ['memory', 'file']},\n",
       " 'weight_recorder': {'params': {'nest_model': 'weight_recorder'},\n",
       "  'nest_params': {}},\n",
       " 'my_multimeter': {'params': {'nest_model': 'multimeter'},\n",
       "  'nest_params': {'record_from': ['V_m']}},\n",
       " 'my_spike_detector': {'params': {'nest_model': 'spike_detector'},\n",
       "  'nest_params': {}}}"
      ]
     },
     "execution_count": 11,
     "metadata": {},
     "output_type": "execute_result"
    }
   ],
   "source": [
    "# ``Network.build_*`` methods accept as argument ``ParamsTree`` objects, but also tree-like dictionaries \n",
    "recorder_models_tree = recorder_models_tree.asdict()\n",
    "recorder_models_tree"
   ]
  },
  {
   "cell_type": "code",
   "execution_count": 12,
   "metadata": {},
   "outputs": [
    {
     "name": "stderr",
     "output_type": "stream",
     "text": [
      "2020-06-25 16:00:36,448 [denest.network] INFO: Build N=3 ``Model`` objects\n"
     ]
    }
   ],
   "source": [
    "net.build_recorder_models(recorder_models_tree)"
   ]
  },
  {
   "cell_type": "code",
   "execution_count": 13,
   "metadata": {},
   "outputs": [
    {
     "name": "stdout",
     "output_type": "stream",
     "text": [
      "\n",
      "``Network.recorder_models`` :\n",
      "{'my_multimeter': Model(my_multimeter, {'nest_model': 'multimeter'}, {'record_from': ['V_m'], 'record_to': ['memory', 'file']}),\n",
      " 'my_spike_detector': Model(my_spike_detector, {'nest_model': 'spike_detector'}, {'record_to': ['memory', 'file']}),\n",
      " 'weight_recorder': Model(weight_recorder, {'nest_model': 'weight_recorder'}, {'record_to': ['memory', 'file']})}\n"
     ]
    }
   ],
   "source": [
    "print(\"\\n``Network.recorder_models`` :\")\n",
    "pprint(net.recorder_models)"
   ]
  },
  {
   "cell_type": "markdown",
   "metadata": {},
   "source": [
    "#### ``'synapse_model'`` tree:\n",
    "\n",
    "Initalize ``Network.synapse_models`` with the ``Network.build_synapse_model`` method\n",
    "\n",
    "-> Same thing as for neuron models, with as a bonus a convenient way of specifying the receptor type of the synapse\n",
    "\n",
    "-> If specifying the ``receptor_type`` and ``target_model`` in the ``SynapseModel`` params, the corresponding port is determined automatically"
   ]
  },
  {
   "cell_type": "code",
   "execution_count": 14,
   "metadata": {},
   "outputs": [
    {
     "data": {
      "text/plain": [
       "ParamsTree(name='synapse_models', parent='None')\n",
       "  params: {}\n",
       "  nest_params: {}\n",
       "  my_AMPA_synapse:\n",
       "    params:\n",
       "      nest_model: ht_synapse\n",
       "      receptor_type: AMPA\n",
       "      target_neuron: ht_neuron\n",
       "    nest_params: {}\n",
       "  my_GABAA_synapse:\n",
       "    params:\n",
       "      nest_model: ht_synapse\n",
       "      receptor_type: GABA_A\n",
       "      target_neuron: ht_neuron\n",
       "    nest_params: {}\n",
       "  "
      ]
     },
     "execution_count": 14,
     "metadata": {},
     "output_type": "execute_result"
    }
   ],
   "source": [
    "synapse_models_tree = ParamsTree.read(PARAMS_DIR/'models.yml').children['synapse_models']\n",
    "synapse_models_tree"
   ]
  },
  {
   "cell_type": "code",
   "execution_count": 15,
   "metadata": {},
   "outputs": [
    {
     "name": "stderr",
     "output_type": "stream",
     "text": [
      "2020-06-25 16:00:36,626 [denest.network] INFO: Build N=2 ``SynapseModel`` objects\n"
     ]
    }
   ],
   "source": [
    "net.build_synapse_models(synapse_models_tree)"
   ]
  },
  {
   "cell_type": "code",
   "execution_count": 16,
   "metadata": {},
   "outputs": [
    {
     "name": "stdout",
     "output_type": "stream",
     "text": [
      "\n",
      "``Network.synapse_models`` :\n",
      "{'my_AMPA_synapse': SynapseModel(my_AMPA_synapse, {'nest_model': 'ht_synapse'}, {'receptor_type': 1}),\n",
      " 'my_GABAA_synapse': SynapseModel(my_GABAA_synapse, {'nest_model': 'ht_synapse'}, {'receptor_type': 3})}\n"
     ]
    }
   ],
   "source": [
    "print(\"\\n``Network.synapse_models`` :\")\n",
    "pprint(net.synapse_models)"
   ]
  },
  {
   "cell_type": "markdown",
   "metadata": {},
   "source": [
    "Note that the ``receptor_type`` nest_parameter was inferred"
   ]
  },
  {
   "cell_type": "markdown",
   "metadata": {},
   "source": [
    "### Define layers\n",
    "\n",
    "As for models, we can create ``nest.Topology`` layers from the leaves of a tree.\n",
    "\n",
    "The elements can be nest models with their default parameters, or the ones we just created with custom params\n",
    "\n",
    "For layers of stimulator devices, we can use the ``InputLayer`` object, which can automatically create paired parrot neurons for each stimulator units, by adding ``type: 'InputLayer'``\n",
    "to the params\n"
   ]
  },
  {
   "cell_type": "markdown",
   "metadata": {},
   "source": [
    "#### ``'layers'`` tree:\n"
   ]
  },
  {
   "cell_type": "code",
   "execution_count": 17,
   "metadata": {},
   "outputs": [
    {
     "data": {
      "text/plain": [
       "ParamsTree(name='None', parent=None)\n",
       "  params: {}\n",
       "  nest_params: {}\n",
       "  layers:\n",
       "    params:\n",
       "      type: null\n",
       "    nest_params:\n",
       "      rows: 5\n",
       "      columns: 5\n",
       "      extent:\n",
       "      - 5.0\n",
       "      - 5.0\n",
       "      edge_wrap: true\n",
       "    input_layer:\n",
       "      params:\n",
       "        type: InputLayer\n",
       "        add_parrots: true\n",
       "        populations:\n",
       "          spike_generator: 1\n",
       "      nest_params: {}\n",
       "    l1:\n",
       "      params:\n",
       "        populations:\n",
       "          l1_exc: 4\n",
       "          l1_inh: 2\n",
       "      nest_params: {}\n",
       "  "
      ]
     },
     "execution_count": 17,
     "metadata": {},
     "output_type": "execute_result"
    }
   ],
   "source": [
    "layer_tree = ParamsTree.read(PARAMS_DIR/'layers.yml')\n",
    "layer_tree"
   ]
  },
  {
   "cell_type": "code",
   "execution_count": 18,
   "metadata": {},
   "outputs": [
    {
     "name": "stderr",
     "output_type": "stream",
     "text": [
      "2020-06-25 16:00:36,822 [denest.network] INFO: Build N=2 ``Layer`` or ``InputLayer`` objects.\n"
     ]
    }
   ],
   "source": [
    "net.build_layers(layer_tree)"
   ]
  },
  {
   "cell_type": "code",
   "execution_count": 19,
   "metadata": {},
   "outputs": [
    {
     "name": "stdout",
     "output_type": "stream",
     "text": [
      "{'input_layer': InputLayer(input_layer, {'add_parrots': True,\n",
      " 'populations': {'parrot_neuron': 1, 'spike_generator': 1},\n",
      " 'type': 'InputLayer'}, {'columns': 5,\n",
      " 'edge_wrap': True,\n",
      " 'elements': ('spike_generator', 1, 'parrot_neuron', 1),\n",
      " 'extent': [5.0, 5.0],\n",
      " 'rows': 5}),\n",
      " 'l1': Layer(l1, {'populations': {'l1_exc': 4, 'l1_inh': 2}, 'type': None}, {'columns': 5,\n",
      " 'edge_wrap': True,\n",
      " 'elements': ('l1_exc', 4, 'l1_inh', 2),\n",
      " 'extent': [5.0, 5.0],\n",
      " 'rows': 5})}\n"
     ]
    }
   ],
   "source": [
    "pprint(net.layers)"
   ]
  },
  {
   "cell_type": "code",
   "execution_count": 20,
   "metadata": {},
   "outputs": [
    {
     "name": "stdout",
     "output_type": "stream",
     "text": [
      "'l1' layer\n",
      "{'populations': {'l1_exc': 4, 'l1_inh': 2}, 'type': None}\n",
      "{'columns': 5,\n",
      " 'edge_wrap': True,\n",
      " 'elements': ('l1_exc', 4, 'l1_inh', 2),\n",
      " 'extent': [5.0, 5.0],\n",
      " 'rows': 5}\n"
     ]
    }
   ],
   "source": [
    "print(\"'l1' layer\")\n",
    "pprint(net.layers['l1'].params)\n",
    "pprint(net.layers['l1'].nest_params)"
   ]
  },
  {
   "cell_type": "markdown",
   "metadata": {},
   "source": [
    "### Define projections\n",
    "\n",
    "We create projections using a two step process:\n",
    "\n",
    "1. Create ``ProjectionModel`` objects from a tree. Each named leaf will define a template from which individual projections can inherit their parameters\n",
    "2. Create ``Projection`` objects from a list, specifying for each item the source layer x population, target layer x population and the projection model to inherit parameters from"
   ]
  },
  {
   "cell_type": "markdown",
   "metadata": {},
   "source": [
    "#### 1- Define templates from the `projection_models` tree\n",
    "\n"
   ]
  },
  {
   "cell_type": "code",
   "execution_count": 21,
   "metadata": {},
   "outputs": [
    {
     "data": {
      "text/plain": [
       "ParamsTree(name='projection_models', parent='None')\n",
       "  params: {}\n",
       "  nest_params:\n",
       "    connection_type: divergent\n",
       "    mask:\n",
       "      circular:\n",
       "        radius: 2.0\n",
       "    kernel: 1.0\n",
       "  proj_1_AMPA:\n",
       "    params: {}\n",
       "    nest_params:\n",
       "      synapse_model: my_AMPA_synapse\n",
       "      weights: 1.0\n",
       "  proj_2_GABAA:\n",
       "    params: {}\n",
       "    nest_params:\n",
       "      synapse_model: my_GABAA_synapse\n",
       "      weights: 2.0\n",
       "  "
      ]
     },
     "execution_count": 21,
     "metadata": {},
     "output_type": "execute_result"
    }
   ],
   "source": [
    "proj_model_tree = ParamsTree.read(PARAMS_DIR/'projections.yml').children['projection_models']\n",
    "proj_model_tree"
   ]
  },
  {
   "cell_type": "code",
   "execution_count": 22,
   "metadata": {},
   "outputs": [
    {
     "name": "stderr",
     "output_type": "stream",
     "text": [
      "2020-06-25 16:00:37,064 [denest.utils.validation] INFO: Object `proj_1_AMPA`: params: using default value for optional parameters:\n",
      "{'type': 'topological'}\n",
      "2020-06-25 16:00:37,075 [denest.utils.validation] INFO: Object `proj_2_GABAA`: params: using default value for optional parameters:\n",
      "{'type': 'topological'}\n",
      "2020-06-25 16:00:37,076 [denest.network] INFO: Build N=2 ``ProjectionModel`` objects\n"
     ]
    }
   ],
   "source": [
    "net.build_projection_models(proj_model_tree)"
   ]
  },
  {
   "cell_type": "code",
   "execution_count": 23,
   "metadata": {},
   "outputs": [
    {
     "data": {
      "text/plain": [
       "{'proj_1_AMPA': ProjectionModel(proj_1_AMPA, \n",
       "  {'type': 'topological'}{'connection_type': 'divergent',\n",
       "   'mask': {'circular': {'radius': 2.0}},\n",
       "   'kernel': 1.0,\n",
       "   'synapse_model': 'my_AMPA_synapse',\n",
       "   'weights': 1.0}),\n",
       " 'proj_2_GABAA': ProjectionModel(proj_2_GABAA, \n",
       "  {'type': 'topological'}{'connection_type': 'divergent',\n",
       "   'mask': {'circular': {'radius': 2.0}},\n",
       "   'kernel': 1.0,\n",
       "   'synapse_model': 'my_GABAA_synapse',\n",
       "   'weights': 2.0})}"
      ]
     },
     "execution_count": 23,
     "metadata": {},
     "output_type": "execute_result"
    }
   ],
   "source": [
    "net.projection_models"
   ]
  },
  {
   "cell_type": "markdown",
   "metadata": {},
   "source": [
    "### 2- Define individual projections from the `topology` tree\n",
    "\n",
    "The list of projections is defined in the `projections` params of the `topology` tree\n",
    "\n",
    "Check out the doc of `Network.build_projections` for expected formatting"
   ]
  },
  {
   "cell_type": "code",
   "execution_count": 24,
   "metadata": {},
   "outputs": [
    {
     "data": {
      "text/plain": [
       "ParamsTree(name='topology', parent='None')\n",
       "  params:\n",
       "    projections:\n",
       "    - source_layers:\n",
       "      - input_layer\n",
       "      source_population: parrot_neuron\n",
       "      target_layers:\n",
       "      - l1\n",
       "      target_population: l1_exc\n",
       "      projection_model: proj_1_AMPA\n",
       "    - source_layers:\n",
       "      - l1\n",
       "      source_population: l1_exc\n",
       "      target_layers:\n",
       "      - l1\n",
       "      target_population: l1_inh\n",
       "      projection_model: proj_1_AMPA\n",
       "    - source_layers:\n",
       "      - l1\n",
       "      source_population: l1_inh\n",
       "      target_layers:\n",
       "      - l1\n",
       "      target_population: l1_exc\n",
       "      projection_model: proj_2_GABAA\n",
       "  nest_params: {}\n",
       "  "
      ]
     },
     "execution_count": 24,
     "metadata": {},
     "output_type": "execute_result"
    }
   ],
   "source": [
    "conns_tree = ParamsTree.read(PARAMS_DIR/'projections.yml').children['topology']\n",
    "conns_tree"
   ]
  },
  {
   "cell_type": "code",
   "execution_count": 25,
   "metadata": {},
   "outputs": [
    {
     "data": {
      "text/plain": [
       "{'proj_1_AMPA': ProjectionModel(proj_1_AMPA, \n",
       "  {'type': 'topological'}{'connection_type': 'divergent',\n",
       "   'mask': {'circular': {'radius': 2.0}},\n",
       "   'kernel': 1.0,\n",
       "   'synapse_model': 'my_AMPA_synapse',\n",
       "   'weights': 1.0}),\n",
       " 'proj_2_GABAA': ProjectionModel(proj_2_GABAA, \n",
       "  {'type': 'topological'}{'connection_type': 'divergent',\n",
       "   'mask': {'circular': {'radius': 2.0}},\n",
       "   'kernel': 1.0,\n",
       "   'synapse_model': 'my_GABAA_synapse',\n",
       "   'weights': 2.0})}"
      ]
     },
     "execution_count": 25,
     "metadata": {},
     "output_type": "execute_result"
    }
   ],
   "source": [
    "net.projection_models"
   ]
  },
  {
   "cell_type": "code",
   "execution_count": 26,
   "metadata": {},
   "outputs": [
    {
     "name": "stderr",
     "output_type": "stream",
     "text": [
      "2020-06-25 16:00:37,319 [denest.network] INFO: Build N=3 ``TopoProjection`` objects\n"
     ]
    }
   ],
   "source": [
    "net.build_projections(conns_tree)"
   ]
  },
  {
   "cell_type": "code",
   "execution_count": 27,
   "metadata": {},
   "outputs": [
    {
     "data": {
      "text/plain": [
       "[TopoProjection(proj_1_AMPA-input_layer-parrot_neuron-l1-l1_exc, \n",
       "  {'type': 'topological'}{'connection_type': 'divergent',\n",
       "   'mask': {'circular': {'radius': 2.0}},\n",
       "   'kernel': 1.0,\n",
       "   'synapse_model': 'my_AMPA_synapse',\n",
       "   'weights': 1.0,\n",
       "   'sources': {'model': 'parrot_neuron'},\n",
       "   'targets': {'model': 'l1_exc'}}),\n",
       " TopoProjection(proj_1_AMPA-l1-l1_exc-l1-l1_inh, \n",
       "  {'type': 'topological'}{'connection_type': 'divergent',\n",
       "   'mask': {'circular': {'radius': 2.0}},\n",
       "   'kernel': 1.0,\n",
       "   'synapse_model': 'my_AMPA_synapse',\n",
       "   'weights': 1.0,\n",
       "   'sources': {'model': 'l1_exc'},\n",
       "   'targets': {'model': 'l1_inh'}}),\n",
       " TopoProjection(proj_2_GABAA-l1-l1_inh-l1-l1_exc, \n",
       "  {'type': 'topological'}{'connection_type': 'divergent',\n",
       "   'mask': {'circular': {'radius': 2.0}},\n",
       "   'kernel': 1.0,\n",
       "   'synapse_model': 'my_GABAA_synapse',\n",
       "   'weights': 2.0,\n",
       "   'sources': {'model': 'l1_inh'},\n",
       "   'targets': {'model': 'l1_exc'}})]"
      ]
     },
     "execution_count": 27,
     "metadata": {},
     "output_type": "execute_result"
    }
   ],
   "source": [
    "net.projections"
   ]
  },
  {
   "cell_type": "markdown",
   "metadata": {},
   "source": [
    "### Define recorders from the `recorders` tree\n",
    "\n",
    "Similarly to the `topology` tree, recorders are defined from lists.\n",
    "\n",
    "\n",
    "We separate recorders connected to synapses (eg weight recorder) and those connected to units (eg spike detectors),\n",
    "which are defined in the `projection_recorders` and `population_recorders` params (resp.) of the `recorders` tree.\n",
    "\n",
    "\n",
    "Check out the doc of the ``Network.build_recorders``, ``Network.build_population_recorders`` and\n",
    "``Network.build_projection_recorders`` methods for expected formatting\n",
    "\n",
    "The parameters of the recorders can be changed by using custom recorder models (in the `recorder_models` tree, see above) "
   ]
  },
  {
   "cell_type": "code",
   "execution_count": 28,
   "metadata": {},
   "outputs": [
    {
     "data": {
      "text/plain": [
       "ParamsTree(name='recorders', parent='None')\n",
       "  params:\n",
       "    population_recorders:\n",
       "    - layers:\n",
       "      - l1\n",
       "      populations:\n",
       "      - l1_exc\n",
       "      model: my_multimeter\n",
       "    - layers:\n",
       "      - input_layer\n",
       "      populations: null\n",
       "      model: my_spike_detector\n",
       "    projection_recorders:\n",
       "    - source_layers:\n",
       "      - l1\n",
       "      source_population: l1_exc\n",
       "      target_layers:\n",
       "      - l1\n",
       "      target_population: l1_inh\n",
       "      projection_model: proj_1_AMPA\n",
       "      model: weight_recorder\n",
       "  nest_params: {}\n",
       "  "
      ]
     },
     "execution_count": 28,
     "metadata": {},
     "output_type": "execute_result"
    }
   ],
   "source": [
    "recorders_tree = ParamsTree.read(PARAMS_DIR/'recorders.yml').children['recorders']\n",
    "recorders_tree"
   ]
  },
  {
   "cell_type": "code",
   "execution_count": 29,
   "metadata": {},
   "outputs": [
    {
     "name": "stderr",
     "output_type": "stream",
     "text": [
      "2020-06-25 16:00:37,553 [denest.network] INFO: Build N=2 population recorders.\n",
      "2020-06-25 16:00:37,555 [denest.network] INFO: Build N=1 projection recorders.\n"
     ]
    }
   ],
   "source": [
    "net.build_recorders(recorders_tree)"
   ]
  },
  {
   "cell_type": "code",
   "execution_count": 30,
   "metadata": {},
   "outputs": [
    {
     "data": {
      "text/plain": [
       "[PopulationRecorder(my_multimeter_l1_l1_exc,  {}{}),\n",
       " PopulationRecorder(my_spike_detector_input_layer_parrot_neuron,  {}{})]"
      ]
     },
     "execution_count": 30,
     "metadata": {},
     "output_type": "execute_result"
    }
   ],
   "source": [
    "net.population_recorders"
   ]
  },
  {
   "cell_type": "code",
   "execution_count": 31,
   "metadata": {},
   "outputs": [
    {
     "data": {
      "text/plain": [
       "[ProjectionRecorder(weight_recorder_proj_1_AMPA-l1-l1_exc-l1-l1_inh,  {}{})]"
      ]
     },
     "execution_count": 31,
     "metadata": {},
     "output_type": "execute_result"
    }
   ],
   "source": [
    "net.projection_recorders"
   ]
  },
  {
   "cell_type": "markdown",
   "metadata": {},
   "source": [
    "## 3- Create the network"
   ]
  },
  {
   "cell_type": "code",
   "execution_count": 32,
   "metadata": {},
   "outputs": [],
   "source": [
    "nest.ResetKernel()\n",
    "nest.SetKernelStatus({'overwrite_files': True})"
   ]
  },
  {
   "cell_type": "code",
   "execution_count": 33,
   "metadata": {},
   "outputs": [
    {
     "name": "stderr",
     "output_type": "stream",
     "text": [
      "2020-06-25 16:00:37,837 [denest.network] INFO: Creating neuron models...\n",
      "100%|██████████| 2/2 [00:00<00:00, 1867.46it/s]\n",
      "2020-06-25 16:00:37,851 [denest.network] INFO: Creating synapse models...\n",
      "100%|██████████| 2/2 [00:00<00:00, 382.33it/s]\n",
      "2020-06-25 16:00:37,861 [denest.network] INFO: Creating recorder models...\n",
      "100%|██████████| 3/3 [00:00<00:00, 96.31it/s]\n",
      "2020-06-25 16:00:37,906 [denest.network] INFO: Creating layers...\n",
      "  0%|          | 0/2 [00:00<?, ?it/s]/Users/tom/nest/nest-simulator-2.20.0/lib/python3.7/site-packages/nest/lib/hl_api_helper.py:127: UserWarning:\n",
      "GetNodes is deprecated and will be removed in NEST 3.0. Use             GIDCollection instead.\n",
      "100%|██████████| 2/2 [00:00<00:00,  7.96it/s]\n",
      "2020-06-25 16:00:38,165 [denest.network] INFO: Creating population recorders...\n",
      "100%|██████████| 2/2 [00:00<00:00, 89.09it/s]\n",
      "2020-06-25 16:00:38,195 [denest.network] INFO: Creating projection recorders...\n",
      "100%|██████████| 1/1 [00:00<00:00, 216.12it/s]\n",
      "2020-06-25 16:00:38,206 [denest.network] INFO: Connecting layers...\n",
      "100%|██████████| 3/3 [00:00<00:00, 563.60it/s]\n",
      "2020-06-25 16:00:38,220 [denest.network] INFO: Network size (including recorders and parrot neurons):\n",
      "Number of nodes: 206\n",
      "Number of projections: 6650\n"
     ]
    }
   ],
   "source": [
    "net.create()"
   ]
  },
  {
   "cell_type": "markdown",
   "metadata": {},
   "source": [
    "## 4- Examine the network\n",
    "\n",
    "denest provides convenient ways of accessing the objects in NEST"
   ]
  },
  {
   "cell_type": "markdown",
   "metadata": {},
   "source": [
    "### Check the defaults of the created models"
   ]
  },
  {
   "cell_type": "code",
   "execution_count": 34,
   "metadata": {},
   "outputs": [
    {
     "name": "stdout",
     "output_type": "stream",
     "text": [
      "`l1_exc` neuron models `nest_params`:  {'g_KL': 1.0, 'g_NaL': 1.0, 'V_m': -44.0}\n"
     ]
    }
   ],
   "source": [
    "print(\"`l1_exc` neuron models `nest_params`: \", net.neuron_models['l1_exc'].nest_params)"
   ]
  },
  {
   "cell_type": "code",
   "execution_count": 35,
   "metadata": {},
   "outputs": [
    {
     "data": {
      "text/plain": [
       "Network(params: {}\n",
       "nest_params: {}\n",
       "neuron_models:\n",
       "  params: {}\n",
       "  nest_params: {}\n",
       "  my_neuron:\n",
       "    params:\n",
       "      nest_model: ht_neuron\n",
       "    nest_params:\n",
       "      g_KL: 1.0\n",
       "      g_NaL: 1.0\n",
       "    l1_exc:\n",
       "      params: {}\n",
       "      nest_params:\n",
       "        V_m: -44.0\n",
       "    l1_inh:\n",
       "      params: {}\n",
       "      nest_params:\n",
       "        V_m: -55.0\n",
       "synapse_models:\n",
       "  params: {}\n",
       "  nest_params: {}\n",
       "  my_AMPA_synapse:\n",
       "    params:\n",
       "      nest_model: ht_synapse\n",
       "      receptor_type: AMPA\n",
       "      target_neuron: ht_neuron\n",
       "    nest_params: {}\n",
       "  my_GABAA_synapse:\n",
       "    params:\n",
       "      nest_model: ht_synapse\n",
       "      receptor_type: GABA_A\n",
       "      target_neuron: ht_neuron\n",
       "    nest_params: {}\n",
       "layers:\n",
       "  params: {}\n",
       "  nest_params: {}\n",
       "  layers:\n",
       "    params:\n",
       "      type: null\n",
       "    nest_params:\n",
       "      rows: 5\n",
       "      columns: 5\n",
       "      extent:\n",
       "      - 5.0\n",
       "      - 5.0\n",
       "      edge_wrap: true\n",
       "    input_layer:\n",
       "      params:\n",
       "        type: InputLayer\n",
       "        add_parrots: true\n",
       "        populations:\n",
       "          spike_generator: 1\n",
       "      nest_params: {}\n",
       "    l1:\n",
       "      params:\n",
       "        populations:\n",
       "          l1_exc: 4\n",
       "          l1_inh: 2\n",
       "      nest_params: {}\n",
       "projection_models:\n",
       "  params: {}\n",
       "  nest_params:\n",
       "    connection_type: divergent\n",
       "    mask:\n",
       "      circular:\n",
       "        radius: 2.0\n",
       "    kernel: 1.0\n",
       "  proj_1_AMPA:\n",
       "    params: {}\n",
       "    nest_params:\n",
       "      synapse_model: my_AMPA_synapse\n",
       "      weights: 1.0\n",
       "  proj_2_GABAA:\n",
       "    params: {}\n",
       "    nest_params:\n",
       "      synapse_model: my_GABAA_synapse\n",
       "      weights: 2.0\n",
       "topology:\n",
       "  params:\n",
       "    projections:\n",
       "    - source_layers:\n",
       "      - input_layer\n",
       "      source_population: parrot_neuron\n",
       "      target_layers:\n",
       "      - l1\n",
       "      target_population: l1_exc\n",
       "      projection_model: proj_1_AMPA\n",
       "    - source_layers:\n",
       "      - l1\n",
       "      source_population: l1_exc\n",
       "      target_layers:\n",
       "      - l1\n",
       "      target_population: l1_inh\n",
       "      projection_model: proj_1_AMPA\n",
       "    - source_layers:\n",
       "      - l1\n",
       "      source_population: l1_inh\n",
       "      target_layers:\n",
       "      - l1\n",
       "      target_population: l1_exc\n",
       "      projection_model: proj_2_GABAA\n",
       "  nest_params: {}\n",
       "recorder_models:\n",
       "  params: {}\n",
       "  nest_params:\n",
       "    record_to:\n",
       "    - memory\n",
       "    - file\n",
       "  weight_recorder:\n",
       "    params:\n",
       "      nest_model: weight_recorder\n",
       "    nest_params: {}\n",
       "  my_multimeter:\n",
       "    params:\n",
       "      nest_model: multimeter\n",
       "    nest_params:\n",
       "      record_from:\n",
       "      - V_m\n",
       "  my_spike_detector:\n",
       "    params:\n",
       "      nest_model: spike_detector\n",
       "    nest_params: {}\n",
       "recorders:\n",
       "  params:\n",
       "    population_recorders:\n",
       "    - layers:\n",
       "      - l1\n",
       "      populations:\n",
       "      - l1_exc\n",
       "      model: my_multimeter\n",
       "    - layers:\n",
       "      - input_layer\n",
       "      populations: null\n",
       "      model: my_spike_detector\n",
       "    projection_recorders:\n",
       "    - source_layers:\n",
       "      - l1\n",
       "      source_population: l1_exc\n",
       "      target_layers:\n",
       "      - l1\n",
       "      target_population: l1_inh\n",
       "      projection_model: proj_1_AMPA\n",
       "      model: weight_recorder\n",
       "  nest_params: {}\n",
       ")"
      ]
     },
     "execution_count": 35,
     "metadata": {},
     "output_type": "execute_result"
    }
   ],
   "source": [
    "net"
   ]
  },
  {
   "cell_type": "code",
   "execution_count": 36,
   "metadata": {},
   "outputs": [
    {
     "name": "stdout",
     "output_type": "stream",
     "text": [
      "Corresponding params of the `l1_exc` model in nest: (1.0, 1.0, -44.0)\n"
     ]
    }
   ],
   "source": [
    "print('Corresponding params of the `l1_exc` model in nest:', nest.GetDefaults('l1_exc', list(net.neuron_models['l1_exc'].nest_params.keys())))"
   ]
  },
  {
   "cell_type": "markdown",
   "metadata": {},
   "source": [
    "### Access the layers' units"
   ]
  },
  {
   "cell_type": "code",
   "execution_count": 37,
   "metadata": {},
   "outputs": [
    {
     "name": "stdout",
     "output_type": "stream",
     "text": [
      "Layer `l1` shape:  (5, 5)\n",
      "Population shapes:  {'l1_exc': (5, 5, 4), 'l1_inh': (5, 5, 2)}\n"
     ]
    }
   ],
   "source": [
    "print('Layer `l1` shape: ', net.layers['l1'].layer_shape)\n",
    "print('Population shapes: ', net.layers['l1'].population_shape)"
   ]
  },
  {
   "cell_type": "code",
   "execution_count": 38,
   "metadata": {},
   "outputs": [
    {
     "data": {
      "text/plain": [
       "[53, 78, 103, 128]"
      ]
     },
     "execution_count": 38,
     "metadata": {},
     "output_type": "execute_result"
    }
   ],
   "source": [
    "net.layers['l1'].gids(location=(0, 0), population='l1_exc')"
   ]
  },
  {
   "cell_type": "markdown",
   "metadata": {},
   "source": [
    "### Access the projections created in NEST"
   ]
  },
  {
   "cell_type": "code",
   "execution_count": 39,
   "metadata": {},
   "outputs": [
    {
     "data": {
      "text/plain": [
       "TopoProjection(proj_1_AMPA-input_layer-parrot_neuron-l1-l1_exc, \n",
       "{'type': 'topological'}{'connection_type': 'divergent',\n",
       " 'mask': {'circular': {'radius': 2.0}},\n",
       " 'kernel': 1.0,\n",
       " 'synapse_model': 'my_AMPA_synapse',\n",
       " 'weights': 1.0,\n",
       " 'sources': {'model': 'parrot_neuron'},\n",
       " 'targets': {'model': 'l1_exc'}})"
      ]
     },
     "execution_count": 39,
     "metadata": {},
     "output_type": "execute_result"
    }
   ],
   "source": [
    "conn = net.projections[0]\n",
    "conn"
   ]
  },
  {
   "cell_type": "code",
   "execution_count": 40,
   "metadata": {},
   "outputs": [
    {
     "data": {
      "text/plain": [
       "(array('l', [27, 53, 0, 68, 0]),\n",
       " array('l', [27, 88, 0, 68, 1]),\n",
       " array('l', [27, 83, 0, 68, 2]),\n",
       " array('l', [27, 152, 0, 68, 3]),\n",
       " array('l', [27, 84, 0, 68, 4]))"
      ]
     },
     "execution_count": 40,
     "metadata": {},
     "output_type": "execute_result"
    }
   ],
   "source": [
    "nest_conns = nest.GetConnections(\n",
    "    source=conn.source.gids(conn.source_population),\n",
    "    target=conn.target.gids(conn.target_population),\n",
    "    synapse_model=conn.nest_params['synapse_model']\n",
    ")\n",
    "nest_conns[0:5]"
   ]
  },
  {
   "cell_type": "markdown",
   "metadata": {},
   "source": [
    "### Access the recorders"
   ]
  },
  {
   "cell_type": "code",
   "execution_count": 41,
   "metadata": {},
   "outputs": [
    {
     "name": "stdout",
     "output_type": "stream",
     "text": [
      "my_multimeter_l1_l1_exc (203,) my_multimeter l1 l1_exc\n"
     ]
    }
   ],
   "source": [
    "rec = net.population_recorders[0]\n",
    "print(rec, rec.gid, rec.model, rec.layer, rec.population_name)"
   ]
  },
  {
   "cell_type": "code",
   "execution_count": 42,
   "metadata": {},
   "outputs": [
    {
     "name": "stdout",
     "output_type": "stream",
     "text": [
      "weight_recorder_proj_1_AMPA-l1-l1_exc-l1-l1_inh (205,) weight_recorder\n"
     ]
    }
   ],
   "source": [
    "connrec = net.projection_recorders[0]\n",
    "print(connrec, connrec.gid, connrec.model)"
   ]
  },
  {
   "cell_type": "markdown",
   "metadata": {},
   "source": [
    "## 5- Save and replicate the network\n",
    "\n",
    "When building each of the network's elements using the `Network.build_*` methods, the `Network.tree` ParamsTree was updated"
   ]
  },
  {
   "cell_type": "code",
   "execution_count": 43,
   "metadata": {},
   "outputs": [
    {
     "data": {
      "text/plain": [
       "ParamsTree(name='None', parent=None)\n",
       "  params: {}\n",
       "  nest_params: {}\n",
       "  neuron_models:\n",
       "    params: {}\n",
       "    nest_params: {}\n",
       "    my_neuron:\n",
       "      params:\n",
       "        nest_model: ht_neuron\n",
       "      nest_params:\n",
       "        g_KL: 1.0\n",
       "        g_NaL: 1.0\n",
       "      l1_exc:\n",
       "        params: {}\n",
       "        nest_params:\n",
       "          V_m: -44.0\n",
       "  \n",
       "  ... [116 lines] ...\n",
       "\n",
       "      - layers:\n",
       "        - input_layer\n",
       "        populations: null\n",
       "        model: my_spike_detector\n",
       "      projection_recorders:\n",
       "      - source_layers:\n",
       "        - l1\n",
       "        source_population: l1_exc\n",
       "        target_layers:\n",
       "        - l1\n",
       "        target_population: l1_inh\n",
       "        projection_model: proj_1_AMPA\n",
       "        model: weight_recorder\n",
       "    nest_params: {}\n",
       "  "
      ]
     },
     "execution_count": 43,
     "metadata": {},
     "output_type": "execute_result"
    }
   ],
   "source": [
    "net.tree"
   ]
  },
  {
   "cell_type": "markdown",
   "metadata": {},
   "source": [
    "#### We can save the parameter tree defining the whole network..."
   ]
  },
  {
   "cell_type": "code",
   "execution_count": 44,
   "metadata": {},
   "outputs": [
    {
     "data": {
      "text/plain": [
       "PosixPath('data_tuto/params/network_tree.yml')"
      ]
     },
     "execution_count": 44,
     "metadata": {},
     "output_type": "execute_result"
    }
   ],
   "source": [
    "net.tree.write(PARAMS_DIR/'network_tree.yml')"
   ]
  },
  {
   "cell_type": "markdown",
   "metadata": {},
   "source": [
    "#### And use it to recreate another identical network"
   ]
  },
  {
   "cell_type": "code",
   "execution_count": 45,
   "metadata": {},
   "outputs": [
    {
     "name": "stderr",
     "output_type": "stream",
     "text": [
      "2020-06-25 16:00:39,216 [denest.network] INFO: Build N=2 ``Model`` objects\n",
      "2020-06-25 16:00:39,218 [denest.network] INFO: Build N=2 ``SynapseModel`` objects\n",
      "2020-06-25 16:00:39,219 [denest.network] INFO: Build N=3 ``Model`` objects\n",
      "2020-06-25 16:00:39,220 [denest.network] INFO: Build N=2 ``Layer`` or ``InputLayer`` objects.\n",
      "2020-06-25 16:00:39,222 [denest.utils.validation] INFO: Object `proj_1_AMPA`: params: using default value for optional parameters:\n",
      "{'type': 'topological'}\n",
      "2020-06-25 16:00:39,226 [denest.utils.validation] INFO: Object `proj_2_GABAA`: params: using default value for optional parameters:\n",
      "{'type': 'topological'}\n",
      "2020-06-25 16:00:39,227 [denest.network] INFO: Build N=2 ``ProjectionModel`` objects\n",
      "2020-06-25 16:00:39,234 [denest.network] INFO: Build N=3 ``TopoProjection`` objects\n",
      "2020-06-25 16:00:39,238 [denest.network] INFO: Build N=2 population recorders.\n",
      "2020-06-25 16:00:39,241 [denest.network] INFO: Build N=1 projection recorders.\n",
      "2020-06-25 16:00:39,258 [denest.network] INFO: Build N=3 ``TopoProjection`` objects\n",
      "2020-06-25 16:00:39,262 [denest.network] INFO: Build N=2 population recorders.\n",
      "2020-06-25 16:00:39,263 [denest.network] INFO: Build N=1 projection recorders.\n"
     ]
    }
   ],
   "source": [
    "net2 = Network(ParamsTree.read(PARAMS_DIR/'network_tree.yml'))"
   ]
  },
  {
   "cell_type": "code",
   "execution_count": 46,
   "metadata": {},
   "outputs": [
    {
     "data": {
      "text/plain": [
       "Network(params: {}\n",
       "nest_params: {}\n",
       "neuron_models:\n",
       "  params: {}\n",
       "  nest_params: {}\n",
       "  my_neuron:\n",
       "    params:\n",
       "      nest_model: ht_neuron\n",
       "    nest_params:\n",
       "      g_KL: 1.0\n",
       "      g_NaL: 1.0\n",
       "    l1_exc:\n",
       "      params: {}\n",
       "      nest_params:\n",
       "        V_m: -44.0\n",
       "    l1_inh:\n",
       "      params: {}\n",
       "      nest_params:\n",
       "        V_m: -55.0\n",
       "synapse_models:\n",
       "  params: {}\n",
       "  nest_params: {}\n",
       "  my_AMPA_synapse:\n",
       "    params:\n",
       "      nest_model: ht_synapse\n",
       "      receptor_type: AMPA\n",
       "      target_neuron: ht_neuron\n",
       "    nest_params: {}\n",
       "  my_GABAA_synapse:\n",
       "    params:\n",
       "      nest_model: ht_synapse\n",
       "      receptor_type: GABA_A\n",
       "      target_neuron: ht_neuron\n",
       "    nest_params: {}\n",
       "layers:\n",
       "  params: {}\n",
       "  nest_params: {}\n",
       "  layers:\n",
       "    params:\n",
       "      type: null\n",
       "    nest_params:\n",
       "      rows: 5\n",
       "      columns: 5\n",
       "      extent:\n",
       "      - 5.0\n",
       "      - 5.0\n",
       "      edge_wrap: true\n",
       "    input_layer:\n",
       "      params:\n",
       "        type: InputLayer\n",
       "        add_parrots: true\n",
       "        populations:\n",
       "          spike_generator: 1\n",
       "      nest_params: {}\n",
       "    l1:\n",
       "      params:\n",
       "        populations:\n",
       "          l1_exc: 4\n",
       "          l1_inh: 2\n",
       "      nest_params: {}\n",
       "projection_models:\n",
       "  params: {}\n",
       "  nest_params:\n",
       "    connection_type: divergent\n",
       "    mask:\n",
       "      circular:\n",
       "        radius: 2.0\n",
       "    kernel: 1.0\n",
       "  proj_1_AMPA:\n",
       "    params: {}\n",
       "    nest_params:\n",
       "      synapse_model: my_AMPA_synapse\n",
       "      weights: 1.0\n",
       "  proj_2_GABAA:\n",
       "    params: {}\n",
       "    nest_params:\n",
       "      synapse_model: my_GABAA_synapse\n",
       "      weights: 2.0\n",
       "topology:\n",
       "  params:\n",
       "    projections:\n",
       "    - source_layers:\n",
       "      - input_layer\n",
       "      source_population: parrot_neuron\n",
       "      target_layers:\n",
       "      - l1\n",
       "      target_population: l1_exc\n",
       "      projection_model: proj_1_AMPA\n",
       "    - source_layers:\n",
       "      - l1\n",
       "      source_population: l1_exc\n",
       "      target_layers:\n",
       "      - l1\n",
       "      target_population: l1_inh\n",
       "      projection_model: proj_1_AMPA\n",
       "    - source_layers:\n",
       "      - l1\n",
       "      source_population: l1_inh\n",
       "      target_layers:\n",
       "      - l1\n",
       "      target_population: l1_exc\n",
       "      projection_model: proj_2_GABAA\n",
       "  nest_params: {}\n",
       "recorder_models:\n",
       "  params: {}\n",
       "  nest_params:\n",
       "    record_to:\n",
       "    - memory\n",
       "    - file\n",
       "  weight_recorder:\n",
       "    params:\n",
       "      nest_model: weight_recorder\n",
       "    nest_params: {}\n",
       "  my_multimeter:\n",
       "    params:\n",
       "      nest_model: multimeter\n",
       "    nest_params:\n",
       "      record_from:\n",
       "      - V_m\n",
       "  my_spike_detector:\n",
       "    params:\n",
       "      nest_model: spike_detector\n",
       "    nest_params: {}\n",
       "recorders:\n",
       "  params:\n",
       "    population_recorders:\n",
       "    - layers:\n",
       "      - l1\n",
       "      populations:\n",
       "      - l1_exc\n",
       "      model: my_multimeter\n",
       "    - layers:\n",
       "      - input_layer\n",
       "      populations: null\n",
       "      model: my_spike_detector\n",
       "    projection_recorders:\n",
       "    - source_layers:\n",
       "      - l1\n",
       "      source_population: l1_exc\n",
       "      target_layers:\n",
       "      - l1\n",
       "      target_population: l1_inh\n",
       "      projection_model: proj_1_AMPA\n",
       "      model: weight_recorder\n",
       "  nest_params: {}\n",
       ")"
      ]
     },
     "execution_count": 46,
     "metadata": {},
     "output_type": "execute_result"
    }
   ],
   "source": [
    "net2"
   ]
  },
  {
   "cell_type": "code",
   "execution_count": null,
   "metadata": {},
   "outputs": [],
   "source": []
  }
 ],
 "metadata": {
  "kernelspec": {
   "display_name": "Python 3",
   "language": "python",
   "name": "python3"
  },
  "language_info": {
   "codemirror_mode": {
    "name": "ipython",
    "version": 3
   },
   "file_extension": ".py",
   "mimetype": "text/x-python",
   "name": "python",
   "nbconvert_exporter": "python",
   "pygments_lexer": "ipython3",
   "version": "3.7.5"
  }
 },
 "nbformat": 4,
 "nbformat_minor": 4
}
